{
 "cells": [
  {
   "cell_type": "markdown",
   "metadata": {},
   "source": [
    "# Sześciokąty"
   ]
  },
  {
   "cell_type": "markdown",
   "metadata": {},
   "source": [
    "Konfiguracje punktów w siatce sześciokątnej\n",
    "\n",
    "Artykuł wykorzystany przy budowie: https://www.redblobgames.com/grids/hexagons/\n",
    "\n",
    "Biblioteka graficzna Bokeh: https://bokeh.org/\n",
    "\n"
   ]
  },
  {
   "cell_type": "code",
   "execution_count": 1,
   "metadata": {
    "pycharm": {
     "is_executing": false,
     "name": "#%%\n"
    }
   },
   "outputs": [
    {
     "data": {
      "text/html": [
       "\n",
       "    <div class=\"bk-root\">\n",
       "        <a href=\"https://bokeh.pydata.org\" target=\"_blank\" class=\"bk-logo bk-logo-small bk-logo-notebook\"></a>\n",
       "        <span id=\"1001\">Loading BokehJS ...</span>\n",
       "    </div>"
      ]
     },
     "metadata": {},
     "output_type": "display_data"
    },
    {
     "data": {
      "application/javascript": [
       "\n",
       "(function(root) {\n",
       "  function now() {\n",
       "    return new Date();\n",
       "  }\n",
       "\n",
       "  var force = true;\n",
       "\n",
       "  if (typeof root._bokeh_onload_callbacks === \"undefined\" || force === true) {\n",
       "    root._bokeh_onload_callbacks = [];\n",
       "    root._bokeh_is_loading = undefined;\n",
       "  }\n",
       "\n",
       "  var JS_MIME_TYPE = 'application/javascript';\n",
       "  var HTML_MIME_TYPE = 'text/html';\n",
       "  var EXEC_MIME_TYPE = 'application/vnd.bokehjs_exec.v0+json';\n",
       "  var CLASS_NAME = 'output_bokeh rendered_html';\n",
       "\n",
       "  /**\n",
       "   * Render data to the DOM node\n",
       "   */\n",
       "  function render(props, node) {\n",
       "    var script = document.createElement(\"script\");\n",
       "    node.appendChild(script);\n",
       "  }\n",
       "\n",
       "  /**\n",
       "   * Handle when an output is cleared or removed\n",
       "   */\n",
       "  function handleClearOutput(event, handle) {\n",
       "    var cell = handle.cell;\n",
       "\n",
       "    var id = cell.output_area._bokeh_element_id;\n",
       "    var server_id = cell.output_area._bokeh_server_id;\n",
       "    // Clean up Bokeh references\n",
       "    if (id != null && id in Bokeh.index) {\n",
       "      Bokeh.index[id].model.document.clear();\n",
       "      delete Bokeh.index[id];\n",
       "    }\n",
       "\n",
       "    if (server_id !== undefined) {\n",
       "      // Clean up Bokeh references\n",
       "      var cmd = \"from bokeh.io.state import curstate; print(curstate().uuid_to_server['\" + server_id + \"'].get_sessions()[0].document.roots[0]._id)\";\n",
       "      cell.notebook.kernel.execute(cmd, {\n",
       "        iopub: {\n",
       "          output: function(msg) {\n",
       "            var id = msg.content.text.trim();\n",
       "            if (id in Bokeh.index) {\n",
       "              Bokeh.index[id].model.document.clear();\n",
       "              delete Bokeh.index[id];\n",
       "            }\n",
       "          }\n",
       "        }\n",
       "      });\n",
       "      // Destroy server and session\n",
       "      var cmd = \"import bokeh.io.notebook as ion; ion.destroy_server('\" + server_id + \"')\";\n",
       "      cell.notebook.kernel.execute(cmd);\n",
       "    }\n",
       "  }\n",
       "\n",
       "  /**\n",
       "   * Handle when a new output is added\n",
       "   */\n",
       "  function handleAddOutput(event, handle) {\n",
       "    var output_area = handle.output_area;\n",
       "    var output = handle.output;\n",
       "\n",
       "    // limit handleAddOutput to display_data with EXEC_MIME_TYPE content only\n",
       "    if ((output.output_type != \"display_data\") || (!output.data.hasOwnProperty(EXEC_MIME_TYPE))) {\n",
       "      return\n",
       "    }\n",
       "\n",
       "    var toinsert = output_area.element.find(\".\" + CLASS_NAME.split(' ')[0]);\n",
       "\n",
       "    if (output.metadata[EXEC_MIME_TYPE][\"id\"] !== undefined) {\n",
       "      toinsert[toinsert.length - 1].firstChild.textContent = output.data[JS_MIME_TYPE];\n",
       "      // store reference to embed id on output_area\n",
       "      output_area._bokeh_element_id = output.metadata[EXEC_MIME_TYPE][\"id\"];\n",
       "    }\n",
       "    if (output.metadata[EXEC_MIME_TYPE][\"server_id\"] !== undefined) {\n",
       "      var bk_div = document.createElement(\"div\");\n",
       "      bk_div.innerHTML = output.data[HTML_MIME_TYPE];\n",
       "      var script_attrs = bk_div.children[0].attributes;\n",
       "      for (var i = 0; i < script_attrs.length; i++) {\n",
       "        toinsert[toinsert.length - 1].firstChild.setAttribute(script_attrs[i].name, script_attrs[i].value);\n",
       "      }\n",
       "      // store reference to server id on output_area\n",
       "      output_area._bokeh_server_id = output.metadata[EXEC_MIME_TYPE][\"server_id\"];\n",
       "    }\n",
       "  }\n",
       "\n",
       "  function register_renderer(events, OutputArea) {\n",
       "\n",
       "    function append_mime(data, metadata, element) {\n",
       "      // create a DOM node to render to\n",
       "      var toinsert = this.create_output_subarea(\n",
       "        metadata,\n",
       "        CLASS_NAME,\n",
       "        EXEC_MIME_TYPE\n",
       "      );\n",
       "      this.keyboard_manager.register_events(toinsert);\n",
       "      // Render to node\n",
       "      var props = {data: data, metadata: metadata[EXEC_MIME_TYPE]};\n",
       "      render(props, toinsert[toinsert.length - 1]);\n",
       "      element.append(toinsert);\n",
       "      return toinsert\n",
       "    }\n",
       "\n",
       "    /* Handle when an output is cleared or removed */\n",
       "    events.on('clear_output.CodeCell', handleClearOutput);\n",
       "    events.on('delete.Cell', handleClearOutput);\n",
       "\n",
       "    /* Handle when a new output is added */\n",
       "    events.on('output_added.OutputArea', handleAddOutput);\n",
       "\n",
       "    /**\n",
       "     * Register the mime type and append_mime function with output_area\n",
       "     */\n",
       "    OutputArea.prototype.register_mime_type(EXEC_MIME_TYPE, append_mime, {\n",
       "      /* Is output safe? */\n",
       "      safe: true,\n",
       "      /* Index of renderer in `output_area.display_order` */\n",
       "      index: 0\n",
       "    });\n",
       "  }\n",
       "\n",
       "  // register the mime type if in Jupyter Notebook environment and previously unregistered\n",
       "  if (root.Jupyter !== undefined) {\n",
       "    var events = require('base/js/events');\n",
       "    var OutputArea = require('notebook/js/outputarea').OutputArea;\n",
       "\n",
       "    if (OutputArea.prototype.mime_types().indexOf(EXEC_MIME_TYPE) == -1) {\n",
       "      register_renderer(events, OutputArea);\n",
       "    }\n",
       "  }\n",
       "\n",
       "  \n",
       "  if (typeof (root._bokeh_timeout) === \"undefined\" || force === true) {\n",
       "    root._bokeh_timeout = Date.now() + 5000;\n",
       "    root._bokeh_failed_load = false;\n",
       "  }\n",
       "\n",
       "  var NB_LOAD_WARNING = {'data': {'text/html':\n",
       "     \"<div style='background-color: #fdd'>\\n\"+\n",
       "     \"<p>\\n\"+\n",
       "     \"BokehJS does not appear to have successfully loaded. If loading BokehJS from CDN, this \\n\"+\n",
       "     \"may be due to a slow or bad network connection. Possible fixes:\\n\"+\n",
       "     \"</p>\\n\"+\n",
       "     \"<ul>\\n\"+\n",
       "     \"<li>re-rerun `output_notebook()` to attempt to load from CDN again, or</li>\\n\"+\n",
       "     \"<li>use INLINE resources instead, as so:</li>\\n\"+\n",
       "     \"</ul>\\n\"+\n",
       "     \"<code>\\n\"+\n",
       "     \"from bokeh.resources import INLINE\\n\"+\n",
       "     \"output_notebook(resources=INLINE)\\n\"+\n",
       "     \"</code>\\n\"+\n",
       "     \"</div>\"}};\n",
       "\n",
       "  function display_loaded() {\n",
       "    var el = document.getElementById(\"1001\");\n",
       "    if (el != null) {\n",
       "      el.textContent = \"BokehJS is loading...\";\n",
       "    }\n",
       "    if (root.Bokeh !== undefined) {\n",
       "      if (el != null) {\n",
       "        el.textContent = \"BokehJS \" + root.Bokeh.version + \" successfully loaded.\";\n",
       "      }\n",
       "    } else if (Date.now() < root._bokeh_timeout) {\n",
       "      setTimeout(display_loaded, 100)\n",
       "    }\n",
       "  }\n",
       "\n",
       "\n",
       "  function run_callbacks() {\n",
       "    try {\n",
       "      root._bokeh_onload_callbacks.forEach(function(callback) {\n",
       "        if (callback != null)\n",
       "          callback();\n",
       "      });\n",
       "    } finally {\n",
       "      delete root._bokeh_onload_callbacks\n",
       "    }\n",
       "    console.debug(\"Bokeh: all callbacks have finished\");\n",
       "  }\n",
       "\n",
       "  function load_libs(css_urls, js_urls, callback) {\n",
       "    if (css_urls == null) css_urls = [];\n",
       "    if (js_urls == null) js_urls = [];\n",
       "\n",
       "    root._bokeh_onload_callbacks.push(callback);\n",
       "    if (root._bokeh_is_loading > 0) {\n",
       "      console.debug(\"Bokeh: BokehJS is being loaded, scheduling callback at\", now());\n",
       "      return null;\n",
       "    }\n",
       "    if (js_urls == null || js_urls.length === 0) {\n",
       "      run_callbacks();\n",
       "      return null;\n",
       "    }\n",
       "    console.debug(\"Bokeh: BokehJS not loaded, scheduling load and callback at\", now());\n",
       "    root._bokeh_is_loading = css_urls.length + js_urls.length;\n",
       "\n",
       "    function on_load() {\n",
       "      root._bokeh_is_loading--;\n",
       "      if (root._bokeh_is_loading === 0) {\n",
       "        console.debug(\"Bokeh: all BokehJS libraries/stylesheets loaded\");\n",
       "        run_callbacks()\n",
       "      }\n",
       "    }\n",
       "\n",
       "    function on_error() {\n",
       "      console.error(\"failed to load \" + url);\n",
       "    }\n",
       "\n",
       "    for (var i = 0; i < css_urls.length; i++) {\n",
       "      var url = css_urls[i];\n",
       "      const element = document.createElement(\"link\");\n",
       "      element.onload = on_load;\n",
       "      element.onerror = on_error;\n",
       "      element.rel = \"stylesheet\";\n",
       "      element.type = \"text/css\";\n",
       "      element.href = url;\n",
       "      console.debug(\"Bokeh: injecting link tag for BokehJS stylesheet: \", url);\n",
       "      document.body.appendChild(element);\n",
       "    }\n",
       "\n",
       "    for (var i = 0; i < js_urls.length; i++) {\n",
       "      var url = js_urls[i];\n",
       "      var element = document.createElement('script');\n",
       "      element.onload = on_load;\n",
       "      element.onerror = on_error;\n",
       "      element.async = false;\n",
       "      element.src = url;\n",
       "      console.debug(\"Bokeh: injecting script tag for BokehJS library: \", url);\n",
       "      document.head.appendChild(element);\n",
       "    }\n",
       "  };var element = document.getElementById(\"1001\");\n",
       "  if (element == null) {\n",
       "    console.error(\"Bokeh: ERROR: autoload.js configured with elementid '1001' but no matching script tag was found. \")\n",
       "    return false;\n",
       "  }\n",
       "\n",
       "  function inject_raw_css(css) {\n",
       "    const element = document.createElement(\"style\");\n",
       "    element.appendChild(document.createTextNode(css));\n",
       "    document.body.appendChild(element);\n",
       "  }\n",
       "\n",
       "  var js_urls = [\"https://cdn.pydata.org/bokeh/release/bokeh-1.3.4.min.js\", \"https://cdn.pydata.org/bokeh/release/bokeh-widgets-1.3.4.min.js\", \"https://cdn.pydata.org/bokeh/release/bokeh-tables-1.3.4.min.js\", \"https://cdn.pydata.org/bokeh/release/bokeh-gl-1.3.4.min.js\"];\n",
       "  var css_urls = [];\n",
       "\n",
       "  var inline_js = [\n",
       "    function(Bokeh) {\n",
       "      Bokeh.set_log_level(\"info\");\n",
       "    },\n",
       "    \n",
       "    function(Bokeh) {\n",
       "      \n",
       "    },\n",
       "    function(Bokeh) {} // ensure no trailing comma for IE\n",
       "  ];\n",
       "\n",
       "  function run_inline_js() {\n",
       "    \n",
       "    if ((root.Bokeh !== undefined) || (force === true)) {\n",
       "      for (var i = 0; i < inline_js.length; i++) {\n",
       "        inline_js[i].call(root, root.Bokeh);\n",
       "      }if (force === true) {\n",
       "        display_loaded();\n",
       "      }} else if (Date.now() < root._bokeh_timeout) {\n",
       "      setTimeout(run_inline_js, 100);\n",
       "    } else if (!root._bokeh_failed_load) {\n",
       "      console.log(\"Bokeh: BokehJS failed to load within specified timeout.\");\n",
       "      root._bokeh_failed_load = true;\n",
       "    } else if (force !== true) {\n",
       "      var cell = $(document.getElementById(\"1001\")).parents('.cell').data().cell;\n",
       "      cell.output_area.append_execute_result(NB_LOAD_WARNING)\n",
       "    }\n",
       "\n",
       "  }\n",
       "\n",
       "  if (root._bokeh_is_loading === 0) {\n",
       "    console.debug(\"Bokeh: BokehJS loaded, going straight to plotting\");\n",
       "    run_inline_js();\n",
       "  } else {\n",
       "    load_libs(css_urls, js_urls, function() {\n",
       "      console.debug(\"Bokeh: BokehJS plotting callback run at\", now());\n",
       "      run_inline_js();\n",
       "    });\n",
       "  }\n",
       "}(window));"
      ],
      "application/vnd.bokehjs_load.v0+json": "\n(function(root) {\n  function now() {\n    return new Date();\n  }\n\n  var force = true;\n\n  if (typeof root._bokeh_onload_callbacks === \"undefined\" || force === true) {\n    root._bokeh_onload_callbacks = [];\n    root._bokeh_is_loading = undefined;\n  }\n\n  \n\n  \n  if (typeof (root._bokeh_timeout) === \"undefined\" || force === true) {\n    root._bokeh_timeout = Date.now() + 5000;\n    root._bokeh_failed_load = false;\n  }\n\n  var NB_LOAD_WARNING = {'data': {'text/html':\n     \"<div style='background-color: #fdd'>\\n\"+\n     \"<p>\\n\"+\n     \"BokehJS does not appear to have successfully loaded. If loading BokehJS from CDN, this \\n\"+\n     \"may be due to a slow or bad network connection. Possible fixes:\\n\"+\n     \"</p>\\n\"+\n     \"<ul>\\n\"+\n     \"<li>re-rerun `output_notebook()` to attempt to load from CDN again, or</li>\\n\"+\n     \"<li>use INLINE resources instead, as so:</li>\\n\"+\n     \"</ul>\\n\"+\n     \"<code>\\n\"+\n     \"from bokeh.resources import INLINE\\n\"+\n     \"output_notebook(resources=INLINE)\\n\"+\n     \"</code>\\n\"+\n     \"</div>\"}};\n\n  function display_loaded() {\n    var el = document.getElementById(\"1001\");\n    if (el != null) {\n      el.textContent = \"BokehJS is loading...\";\n    }\n    if (root.Bokeh !== undefined) {\n      if (el != null) {\n        el.textContent = \"BokehJS \" + root.Bokeh.version + \" successfully loaded.\";\n      }\n    } else if (Date.now() < root._bokeh_timeout) {\n      setTimeout(display_loaded, 100)\n    }\n  }\n\n\n  function run_callbacks() {\n    try {\n      root._bokeh_onload_callbacks.forEach(function(callback) {\n        if (callback != null)\n          callback();\n      });\n    } finally {\n      delete root._bokeh_onload_callbacks\n    }\n    console.debug(\"Bokeh: all callbacks have finished\");\n  }\n\n  function load_libs(css_urls, js_urls, callback) {\n    if (css_urls == null) css_urls = [];\n    if (js_urls == null) js_urls = [];\n\n    root._bokeh_onload_callbacks.push(callback);\n    if (root._bokeh_is_loading > 0) {\n      console.debug(\"Bokeh: BokehJS is being loaded, scheduling callback at\", now());\n      return null;\n    }\n    if (js_urls == null || js_urls.length === 0) {\n      run_callbacks();\n      return null;\n    }\n    console.debug(\"Bokeh: BokehJS not loaded, scheduling load and callback at\", now());\n    root._bokeh_is_loading = css_urls.length + js_urls.length;\n\n    function on_load() {\n      root._bokeh_is_loading--;\n      if (root._bokeh_is_loading === 0) {\n        console.debug(\"Bokeh: all BokehJS libraries/stylesheets loaded\");\n        run_callbacks()\n      }\n    }\n\n    function on_error() {\n      console.error(\"failed to load \" + url);\n    }\n\n    for (var i = 0; i < css_urls.length; i++) {\n      var url = css_urls[i];\n      const element = document.createElement(\"link\");\n      element.onload = on_load;\n      element.onerror = on_error;\n      element.rel = \"stylesheet\";\n      element.type = \"text/css\";\n      element.href = url;\n      console.debug(\"Bokeh: injecting link tag for BokehJS stylesheet: \", url);\n      document.body.appendChild(element);\n    }\n\n    for (var i = 0; i < js_urls.length; i++) {\n      var url = js_urls[i];\n      var element = document.createElement('script');\n      element.onload = on_load;\n      element.onerror = on_error;\n      element.async = false;\n      element.src = url;\n      console.debug(\"Bokeh: injecting script tag for BokehJS library: \", url);\n      document.head.appendChild(element);\n    }\n  };var element = document.getElementById(\"1001\");\n  if (element == null) {\n    console.error(\"Bokeh: ERROR: autoload.js configured with elementid '1001' but no matching script tag was found. \")\n    return false;\n  }\n\n  function inject_raw_css(css) {\n    const element = document.createElement(\"style\");\n    element.appendChild(document.createTextNode(css));\n    document.body.appendChild(element);\n  }\n\n  var js_urls = [\"https://cdn.pydata.org/bokeh/release/bokeh-1.3.4.min.js\", \"https://cdn.pydata.org/bokeh/release/bokeh-widgets-1.3.4.min.js\", \"https://cdn.pydata.org/bokeh/release/bokeh-tables-1.3.4.min.js\", \"https://cdn.pydata.org/bokeh/release/bokeh-gl-1.3.4.min.js\"];\n  var css_urls = [];\n\n  var inline_js = [\n    function(Bokeh) {\n      Bokeh.set_log_level(\"info\");\n    },\n    \n    function(Bokeh) {\n      \n    },\n    function(Bokeh) {} // ensure no trailing comma for IE\n  ];\n\n  function run_inline_js() {\n    \n    if ((root.Bokeh !== undefined) || (force === true)) {\n      for (var i = 0; i < inline_js.length; i++) {\n        inline_js[i].call(root, root.Bokeh);\n      }if (force === true) {\n        display_loaded();\n      }} else if (Date.now() < root._bokeh_timeout) {\n      setTimeout(run_inline_js, 100);\n    } else if (!root._bokeh_failed_load) {\n      console.log(\"Bokeh: BokehJS failed to load within specified timeout.\");\n      root._bokeh_failed_load = true;\n    } else if (force !== true) {\n      var cell = $(document.getElementById(\"1001\")).parents('.cell').data().cell;\n      cell.output_area.append_execute_result(NB_LOAD_WARNING)\n    }\n\n  }\n\n  if (root._bokeh_is_loading === 0) {\n    console.debug(\"Bokeh: BokehJS loaded, going straight to plotting\");\n    run_inline_js();\n  } else {\n    load_libs(css_urls, js_urls, function() {\n      console.debug(\"Bokeh: BokehJS plotting callback run at\", now());\n      run_inline_js();\n    });\n  }\n}(window));"
     },
     "metadata": {},
     "output_type": "display_data"
    }
   ],
   "source": [
    "import numpy as np\n",
    "\n",
    "from bokeh.io import output_file, show\n",
    "from bokeh.plotting import figure\n",
    "from bokeh.util.hex import axial_to_cartesian\n",
    "from bokeh.io import output_notebook, show\n",
    "\n",
    "\n",
    "output_notebook()\n",
    "\n",
    "\n",
    "def szescio(n):\n",
    "    x = []\n",
    "    y = []\n",
    "    for i in range(n):\n",
    "        for j in range(n+i):\n",
    "            x.append(i-n+1)\n",
    "            y.append(j-i)\n",
    "    for i in range(1,n):\n",
    "        for j in range(2*n-i-1):\n",
    "            x.append(i)\n",
    "            y.append(-n+1+j)\n",
    "    return x,y\n",
    "\n",
    "def cube_to_axial(cube):\n",
    "    q = cube[0]\n",
    "    r = cube[2]\n",
    "    return (q, r)\n",
    "\n",
    "def axial_to_cube(hex):\n",
    "    x = hex[0]\n",
    "    z = hex[1]\n",
    "    y = -x-z\n",
    "    return (x, y, z)\n",
    "\n",
    "def color_test(q,r,test):\n",
    "    l = [axial_to_cube(a) for a in zip(q,r)]\n",
    "    l2 = ['red' if test(a) else 'blue' for a in l ]\n",
    "    return l2"
   ]
  },
  {
   "cell_type": "code",
   "execution_count": 2,
   "metadata": {
    "pycharm": {
     "name": "#%%\n"
    }
   },
   "outputs": [],
   "source": [
    "def draw_grid(size,test_fun):\n",
    "    x,y = szescio(size)\n",
    "    q = np.array(x)\n",
    "    r = np.array(y)\n",
    "    \n",
    "    p = figure(plot_width=600, plot_height=600, toolbar_location=None)\n",
    "    p.grid.visible = False\n",
    "    \n",
    "    p.hex_tile(q, r, size=1, fill_color=color_test(q,r,test_fun),\n",
    "               line_color=\"white\", alpha=0.5)\n",
    "    \n",
    "    x, y = axial_to_cartesian(q, r, 1, \"pointytop\")\n",
    "    \n",
    "    p.text(x, y, text=[\"%d  %d\\n%d\" % axial_to_cube((a)) for a in zip(q, r)],\n",
    "           text_baseline=\"middle\", text_align=\"center\")\n",
    "    \n",
    "    show(p)\n",
    "\n"
   ]
  },
  {
   "cell_type": "markdown",
   "metadata": {},
   "source": [
    "## Funkcja zamalowująca warstwy - sprawdza czy wpółrzędna o największej wartości absolutnej jest parzysta."
   ]
  },
  {
   "cell_type": "code",
   "execution_count": 3,
   "metadata": {
    "pycharm": {
     "name": "#%%\n"
    },
    "scrolled": false
   },
   "outputs": [
    {
     "data": {
      "text/html": [
       "\n",
       "\n",
       "\n",
       "\n",
       "\n",
       "\n",
       "  <div class=\"bk-root\" id=\"187f09b4-e913-451a-bfc8-b259fe99b1ca\" data-root-id=\"1002\"></div>\n"
      ]
     },
     "metadata": {},
     "output_type": "display_data"
    },
    {
     "data": {
      "application/javascript": [
       "(function(root) {\n",
       "  function embed_document(root) {\n",
       "    \n",
       "  var docs_json = {\"2d448bd8-359e-4d15-abf3-c72d128eee09\":{\"roots\":{\"references\":[{\"attributes\":{\"below\":[{\"id\":\"1011\",\"type\":\"LinearAxis\"}],\"center\":[{\"id\":\"1015\",\"type\":\"Grid\"},{\"id\":\"1020\",\"type\":\"Grid\"}],\"left\":[{\"id\":\"1016\",\"type\":\"LinearAxis\"}],\"renderers\":[{\"id\":\"1037\",\"type\":\"GlyphRenderer\"},{\"id\":\"1042\",\"type\":\"GlyphRenderer\"}],\"title\":{\"id\":\"1045\",\"type\":\"Title\"},\"toolbar\":{\"id\":\"1027\",\"type\":\"Toolbar\"},\"toolbar_location\":null,\"x_range\":{\"id\":\"1003\",\"type\":\"DataRange1d\"},\"x_scale\":{\"id\":\"1007\",\"type\":\"LinearScale\"},\"y_range\":{\"id\":\"1005\",\"type\":\"DataRange1d\"},\"y_scale\":{\"id\":\"1009\",\"type\":\"LinearScale\"}},\"id\":\"1002\",\"subtype\":\"Figure\",\"type\":\"Plot\"},{\"attributes\":{},\"id\":\"1026\",\"type\":\"HelpTool\"},{\"attributes\":{\"data_source\":{\"id\":\"1034\",\"type\":\"ColumnDataSource\"},\"glyph\":{\"id\":\"1035\",\"type\":\"HexTile\"},\"hover_glyph\":null,\"muted_glyph\":null,\"nonselection_glyph\":{\"id\":\"1036\",\"type\":\"HexTile\"},\"selection_glyph\":null,\"view\":{\"id\":\"1038\",\"type\":\"CDSView\"}},\"id\":\"1037\",\"type\":\"GlyphRenderer\"},{\"attributes\":{\"text_align\":\"center\",\"text_baseline\":\"middle\",\"text_color\":{\"value\":\"black\"},\"x\":{\"field\":\"x\"},\"y\":{\"field\":\"y\"}},\"id\":\"1040\",\"type\":\"Text\"},{\"attributes\":{},\"id\":\"1047\",\"type\":\"BasicTickFormatter\"},{\"attributes\":{},\"id\":\"1049\",\"type\":\"BasicTickFormatter\"},{\"attributes\":{\"source\":{\"id\":\"1034\",\"type\":\"ColumnDataSource\"}},\"id\":\"1038\",\"type\":\"CDSView\"},{\"attributes\":{\"callback\":null},\"id\":\"1003\",\"type\":\"DataRange1d\"},{\"attributes\":{\"active_drag\":\"auto\",\"active_inspect\":\"auto\",\"active_multi\":null,\"active_scroll\":\"auto\",\"active_tap\":\"auto\",\"tools\":[{\"id\":\"1021\",\"type\":\"PanTool\"},{\"id\":\"1022\",\"type\":\"WheelZoomTool\"},{\"id\":\"1023\",\"type\":\"BoxZoomTool\"},{\"id\":\"1024\",\"type\":\"SaveTool\"},{\"id\":\"1025\",\"type\":\"ResetTool\"},{\"id\":\"1026\",\"type\":\"HelpTool\"}]},\"id\":\"1027\",\"type\":\"Toolbar\"},{\"attributes\":{\"callback\":null,\"data\":{\"text\":[\"-4  4\\n0\",\"-4  3\\n1\",\"-4  2\\n2\",\"-4  1\\n3\",\"-4  0\\n4\",\"-3  4\\n-1\",\"-3  3\\n0\",\"-3  2\\n1\",\"-3  1\\n2\",\"-3  0\\n3\",\"-3  -1\\n4\",\"-2  4\\n-2\",\"-2  3\\n-1\",\"-2  2\\n0\",\"-2  1\\n1\",\"-2  0\\n2\",\"-2  -1\\n3\",\"-2  -2\\n4\",\"-1  4\\n-3\",\"-1  3\\n-2\",\"-1  2\\n-1\",\"-1  1\\n0\",\"-1  0\\n1\",\"-1  -1\\n2\",\"-1  -2\\n3\",\"-1  -3\\n4\",\"0  4\\n-4\",\"0  3\\n-3\",\"0  2\\n-2\",\"0  1\\n-1\",\"0  0\\n0\",\"0  -1\\n1\",\"0  -2\\n2\",\"0  -3\\n3\",\"0  -4\\n4\",\"1  3\\n-4\",\"1  2\\n-3\",\"1  1\\n-2\",\"1  0\\n-1\",\"1  -1\\n0\",\"1  -2\\n1\",\"1  -3\\n2\",\"1  -4\\n3\",\"2  2\\n-4\",\"2  1\\n-3\",\"2  0\\n-2\",\"2  -1\\n-1\",\"2  -2\\n0\",\"2  -3\\n1\",\"2  -4\\n2\",\"3  1\\n-4\",\"3  0\\n-3\",\"3  -1\\n-2\",\"3  -2\\n-1\",\"3  -3\\n0\",\"3  -4\\n1\",\"4  0\\n-4\",\"4  -1\\n-3\",\"4  -2\\n-2\",\"4  -3\\n-1\",\"4  -4\\n0\"],\"x\":{\"__ndarray__\":\"qkxY6Hq2G8AVQ02Lqz8YwIA5Qi7cyBTA6i830QxSEcCqTFjoerYLwBVDTYurPxjAgDlCLtzIFMDqLzfRDFIRwKpMWOh6tgvAgDlCLtzIBMCqTFjoerb7v4A5Qi7cyBTA6i830QxSEcCqTFjoerYLwIA5Qi7cyATAqkxY6Hq2+7+qTFjoerbrvwAAAAAAAAAA6i830QxSEcCqTFjoerYLwIA5Qi7cyATAqkxY6Hq2+7+qTFjoerbrvwAAAAAAAAAAqkxY6Hq26z+qTFjoerb7P6pMWOh6tgvAgDlCLtzIBMCqTFjoerb7v6pMWOh6tuu/AAAAAAAAAACqTFjoerbrP6pMWOh6tvs/gDlCLtzIBECqTFjoerYLQKpMWOh6tvu/qkxY6Hq2678AAAAAAAAAAKpMWOh6tus/qkxY6Hq2+z+AOUIu3MgEQKpMWOh6tgtA6i830QxSEUAAAAAAAAAAAKpMWOh6tus/qkxY6Hq2+z+AOUIu3MgEQKpMWOh6tgtA6i830QxSEUCAOUIu3MgUQKpMWOh6tvs/gDlCLtzIBECqTFjoerYLQOovN9EMUhFAgDlCLtzIFEAVQ02Lqz8YQKpMWOh6tgtA6i830QxSEUCAOUIu3MgUQBVDTYurPxhAqkxY6Hq2G0A=\",\"dtype\":\"float64\",\"shape\":[61]},\"y\":{\"__ndarray__\":\"AAAAAAAAAIAAAAAAAAD4vwAAAAAAAAjAAAAAAAAAEsAAAAAAAAAYwAAAAAAAAPg/AAAAAAAAAIAAAAAAAAD4vwAAAAAAAAjAAAAAAAAAEsAAAAAAAAAYwAAAAAAAAAhAAAAAAAAA+D8AAAAAAAAAgAAAAAAAAPi/AAAAAAAACMAAAAAAAAASwAAAAAAAABjAAAAAAAAAEkAAAAAAAAAIQAAAAAAAAPg/AAAAAAAAAIAAAAAAAAD4vwAAAAAAAAjAAAAAAAAAEsAAAAAAAAAYwAAAAAAAABhAAAAAAAAAEkAAAAAAAAAIQAAAAAAAAPg/AAAAAAAAAIAAAAAAAAD4vwAAAAAAAAjAAAAAAAAAEsAAAAAAAAAYwAAAAAAAABhAAAAAAAAAEkAAAAAAAAAIQAAAAAAAAPg/AAAAAAAAAIAAAAAAAAD4vwAAAAAAAAjAAAAAAAAAEsAAAAAAAAAYQAAAAAAAABJAAAAAAAAACEAAAAAAAAD4PwAAAAAAAACAAAAAAAAA+L8AAAAAAAAIwAAAAAAAABhAAAAAAAAAEkAAAAAAAAAIQAAAAAAAAPg/AAAAAAAAAIAAAAAAAAD4vwAAAAAAABhAAAAAAAAAEkAAAAAAAAAIQAAAAAAAAPg/AAAAAAAAAIA=\",\"dtype\":\"float64\",\"shape\":[61]}},\"selected\":{\"id\":\"1052\",\"type\":\"Selection\"},\"selection_policy\":{\"id\":\"1053\",\"type\":\"UnionRenderers\"}},\"id\":\"1039\",\"type\":\"ColumnDataSource\"},{\"attributes\":{},\"id\":\"1025\",\"type\":\"ResetTool\"},{\"attributes\":{},\"id\":\"1007\",\"type\":\"LinearScale\"},{\"attributes\":{\"source\":{\"id\":\"1039\",\"type\":\"ColumnDataSource\"}},\"id\":\"1043\",\"type\":\"CDSView\"},{\"attributes\":{\"data_source\":{\"id\":\"1039\",\"type\":\"ColumnDataSource\"},\"glyph\":{\"id\":\"1040\",\"type\":\"Text\"},\"hover_glyph\":null,\"muted_glyph\":null,\"nonselection_glyph\":{\"id\":\"1041\",\"type\":\"Text\"},\"selection_glyph\":null,\"view\":{\"id\":\"1043\",\"type\":\"CDSView\"}},\"id\":\"1042\",\"type\":\"GlyphRenderer\"},{\"attributes\":{},\"id\":\"1022\",\"type\":\"WheelZoomTool\"},{\"attributes\":{\"text_align\":\"center\",\"text_alpha\":{\"value\":0.1},\"text_baseline\":\"middle\",\"text_color\":{\"value\":\"black\"},\"x\":{\"field\":\"x\"},\"y\":{\"field\":\"y\"}},\"id\":\"1041\",\"type\":\"Text\"},{\"attributes\":{},\"id\":\"1051\",\"type\":\"UnionRenderers\"},{\"attributes\":{\"text\":\"\"},\"id\":\"1045\",\"type\":\"Title\"},{\"attributes\":{},\"id\":\"1052\",\"type\":\"Selection\"},{\"attributes\":{\"formatter\":{\"id\":\"1047\",\"type\":\"BasicTickFormatter\"},\"ticker\":{\"id\":\"1012\",\"type\":\"BasicTicker\"}},\"id\":\"1011\",\"type\":\"LinearAxis\"},{\"attributes\":{},\"id\":\"1050\",\"type\":\"Selection\"},{\"attributes\":{},\"id\":\"1009\",\"type\":\"LinearScale\"},{\"attributes\":{\"ticker\":{\"id\":\"1012\",\"type\":\"BasicTicker\"},\"visible\":false},\"id\":\"1015\",\"type\":\"Grid\"},{\"attributes\":{},\"id\":\"1053\",\"type\":\"UnionRenderers\"},{\"attributes\":{},\"id\":\"1024\",\"type\":\"SaveTool\"},{\"attributes\":{},\"id\":\"1017\",\"type\":\"BasicTicker\"},{\"attributes\":{\"callback\":null},\"id\":\"1005\",\"type\":\"DataRange1d\"},{\"attributes\":{},\"id\":\"1021\",\"type\":\"PanTool\"},{\"attributes\":{\"bottom_units\":\"screen\",\"fill_alpha\":{\"value\":0.5},\"fill_color\":{\"value\":\"lightgrey\"},\"left_units\":\"screen\",\"level\":\"overlay\",\"line_alpha\":{\"value\":1.0},\"line_color\":{\"value\":\"black\"},\"line_dash\":[4,4],\"line_width\":{\"value\":2},\"render_mode\":\"css\",\"right_units\":\"screen\",\"top_units\":\"screen\"},\"id\":\"1054\",\"type\":\"BoxAnnotation\"},{\"attributes\":{\"overlay\":{\"id\":\"1054\",\"type\":\"BoxAnnotation\"}},\"id\":\"1023\",\"type\":\"BoxZoomTool\"},{\"attributes\":{\"fill_alpha\":{\"value\":0.5},\"fill_color\":{\"field\":\"fill_color\"},\"line_alpha\":{\"value\":0.5},\"line_color\":{\"value\":\"white\"},\"q\":{\"field\":\"q\"},\"r\":{\"field\":\"r\"}},\"id\":\"1035\",\"type\":\"HexTile\"},{\"attributes\":{\"dimension\":1,\"ticker\":{\"id\":\"1017\",\"type\":\"BasicTicker\"},\"visible\":false},\"id\":\"1020\",\"type\":\"Grid\"},{\"attributes\":{},\"id\":\"1012\",\"type\":\"BasicTicker\"},{\"attributes\":{\"formatter\":{\"id\":\"1049\",\"type\":\"BasicTickFormatter\"},\"ticker\":{\"id\":\"1017\",\"type\":\"BasicTicker\"}},\"id\":\"1016\",\"type\":\"LinearAxis\"},{\"attributes\":{\"callback\":null,\"data\":{\"fill_color\":[\"blue\",\"blue\",\"blue\",\"blue\",\"blue\",\"blue\",\"red\",\"red\",\"red\",\"red\",\"blue\",\"blue\",\"red\",\"blue\",\"blue\",\"blue\",\"red\",\"blue\",\"blue\",\"red\",\"blue\",\"red\",\"red\",\"blue\",\"red\",\"blue\",\"blue\",\"red\",\"blue\",\"red\",\"blue\",\"red\",\"blue\",\"red\",\"blue\",\"blue\",\"red\",\"blue\",\"red\",\"red\",\"blue\",\"red\",\"blue\",\"blue\",\"red\",\"blue\",\"blue\",\"blue\",\"red\",\"blue\",\"blue\",\"red\",\"red\",\"red\",\"red\",\"blue\",\"blue\",\"blue\",\"blue\",\"blue\",\"blue\"],\"q\":{\"__ndarray__\":\"/P////z////8/////P////z////9/////f////3////9/////f////3////+/////v////7////+/////v////7////+//////////////////////////////////////////////8AAAAAAAAAAAAAAAAAAAAAAAAAAAAAAAAAAAAAAAAAAAAAAAABAAAAAQAAAAEAAAABAAAAAQAAAAEAAAABAAAAAQAAAAIAAAACAAAAAgAAAAIAAAACAAAAAgAAAAIAAAADAAAAAwAAAAMAAAADAAAAAwAAAAMAAAAEAAAABAAAAAQAAAAEAAAABAAAAA==\",\"dtype\":\"int32\",\"shape\":[61]},\"r\":{\"__ndarray__\":\"AAAAAAEAAAACAAAAAwAAAAQAAAD/////AAAAAAEAAAACAAAAAwAAAAQAAAD+/////////wAAAAABAAAAAgAAAAMAAAAEAAAA/f////7/////////AAAAAAEAAAACAAAAAwAAAAQAAAD8/////f////7/////////AAAAAAEAAAACAAAAAwAAAAQAAAD8/////f////7/////////AAAAAAEAAAACAAAAAwAAAPz////9/////v////////8AAAAAAQAAAAIAAAD8/////f////7/////////AAAAAAEAAAD8/////f////7/////////AAAAAA==\",\"dtype\":\"int32\",\"shape\":[61]}},\"selected\":{\"id\":\"1050\",\"type\":\"Selection\"},\"selection_policy\":{\"id\":\"1051\",\"type\":\"UnionRenderers\"}},\"id\":\"1034\",\"type\":\"ColumnDataSource\"},{\"attributes\":{\"fill_alpha\":{\"value\":0.1},\"fill_color\":{\"value\":\"#1f77b4\"},\"line_alpha\":{\"value\":0.1},\"line_color\":{\"value\":\"#1f77b4\"},\"q\":{\"field\":\"q\"},\"r\":{\"field\":\"r\"}},\"id\":\"1036\",\"type\":\"HexTile\"}],\"root_ids\":[\"1002\"]},\"title\":\"Bokeh Application\",\"version\":\"1.3.4\"}};\n",
       "  var render_items = [{\"docid\":\"2d448bd8-359e-4d15-abf3-c72d128eee09\",\"roots\":{\"1002\":\"187f09b4-e913-451a-bfc8-b259fe99b1ca\"}}];\n",
       "  root.Bokeh.embed.embed_items_notebook(docs_json, render_items);\n",
       "\n",
       "  }\n",
       "  if (root.Bokeh !== undefined) {\n",
       "    embed_document(root);\n",
       "  } else {\n",
       "    var attempts = 0;\n",
       "    var timer = setInterval(function(root) {\n",
       "      if (root.Bokeh !== undefined) {\n",
       "        embed_document(root);\n",
       "        clearInterval(timer);\n",
       "      }\n",
       "      attempts++;\n",
       "      if (attempts > 100) {\n",
       "        console.log(\"Bokeh: ERROR: Unable to run BokehJS code because BokehJS library is missing\");\n",
       "        clearInterval(timer);\n",
       "      }\n",
       "    }, 10, root)\n",
       "  }\n",
       "})(window);"
      ],
      "application/vnd.bokehjs_exec.v0+json": ""
     },
     "metadata": {
      "application/vnd.bokehjs_exec.v0+json": {
       "id": "1002"
      }
     },
     "output_type": "display_data"
    }
   ],
   "source": [
    "def test_layers(a):\n",
    "    return max((abs(x) for x in a))%2\n",
    "\n",
    "draw_grid(5,test_layers)"
   ]
  },
  {
   "cell_type": "code",
   "execution_count": 4,
   "metadata": {
    "collapsed": true
   },
   "outputs": [
    {
     "data": {
      "text/html": [
       "\n",
       "\n",
       "\n",
       "\n",
       "\n",
       "\n",
       "  <div class=\"bk-root\" id=\"543085a1-1c92-4df3-9845-110a1366dbac\" data-root-id=\"1121\"></div>\n"
      ]
     },
     "metadata": {},
     "output_type": "display_data"
    },
    {
     "data": {
      "application/javascript": [
       "(function(root) {\n",
       "  function embed_document(root) {\n",
       "    \n",
       "  var docs_json = {\"ac97890f-dfd7-4aa8-9fcc-4bcb6e8a9dc0\":{\"roots\":{\"references\":[{\"attributes\":{\"below\":[{\"id\":\"1130\",\"type\":\"LinearAxis\"}],\"center\":[{\"id\":\"1134\",\"type\":\"Grid\"},{\"id\":\"1139\",\"type\":\"Grid\"}],\"left\":[{\"id\":\"1135\",\"type\":\"LinearAxis\"}],\"renderers\":[{\"id\":\"1156\",\"type\":\"GlyphRenderer\"},{\"id\":\"1161\",\"type\":\"GlyphRenderer\"}],\"title\":{\"id\":\"1175\",\"type\":\"Title\"},\"toolbar\":{\"id\":\"1146\",\"type\":\"Toolbar\"},\"toolbar_location\":null,\"x_range\":{\"id\":\"1122\",\"type\":\"DataRange1d\"},\"x_scale\":{\"id\":\"1126\",\"type\":\"LinearScale\"},\"y_range\":{\"id\":\"1124\",\"type\":\"DataRange1d\"},\"y_scale\":{\"id\":\"1128\",\"type\":\"LinearScale\"}},\"id\":\"1121\",\"subtype\":\"Figure\",\"type\":\"Plot\"},{\"attributes\":{},\"id\":\"1144\",\"type\":\"ResetTool\"},{\"attributes\":{\"text_align\":\"center\",\"text_baseline\":\"middle\",\"text_color\":{\"value\":\"black\"},\"x\":{\"field\":\"x\"},\"y\":{\"field\":\"y\"}},\"id\":\"1159\",\"type\":\"Text\"},{\"attributes\":{},\"id\":\"1143\",\"type\":\"SaveTool\"},{\"attributes\":{\"text_align\":\"center\",\"text_alpha\":{\"value\":0.1},\"text_baseline\":\"middle\",\"text_color\":{\"value\":\"black\"},\"x\":{\"field\":\"x\"},\"y\":{\"field\":\"y\"}},\"id\":\"1160\",\"type\":\"Text\"},{\"attributes\":{\"source\":{\"id\":\"1158\",\"type\":\"ColumnDataSource\"}},\"id\":\"1162\",\"type\":\"CDSView\"},{\"attributes\":{\"data_source\":{\"id\":\"1158\",\"type\":\"ColumnDataSource\"},\"glyph\":{\"id\":\"1159\",\"type\":\"Text\"},\"hover_glyph\":null,\"muted_glyph\":null,\"nonselection_glyph\":{\"id\":\"1160\",\"type\":\"Text\"},\"selection_glyph\":null,\"view\":{\"id\":\"1162\",\"type\":\"CDSView\"}},\"id\":\"1161\",\"type\":\"GlyphRenderer\"},{\"attributes\":{\"callback\":null,\"data\":{\"text\":[\"-4  4\\n0\",\"-4  3\\n1\",\"-4  2\\n2\",\"-4  1\\n3\",\"-4  0\\n4\",\"-3  4\\n-1\",\"-3  3\\n0\",\"-3  2\\n1\",\"-3  1\\n2\",\"-3  0\\n3\",\"-3  -1\\n4\",\"-2  4\\n-2\",\"-2  3\\n-1\",\"-2  2\\n0\",\"-2  1\\n1\",\"-2  0\\n2\",\"-2  -1\\n3\",\"-2  -2\\n4\",\"-1  4\\n-3\",\"-1  3\\n-2\",\"-1  2\\n-1\",\"-1  1\\n0\",\"-1  0\\n1\",\"-1  -1\\n2\",\"-1  -2\\n3\",\"-1  -3\\n4\",\"0  4\\n-4\",\"0  3\\n-3\",\"0  2\\n-2\",\"0  1\\n-1\",\"0  0\\n0\",\"0  -1\\n1\",\"0  -2\\n2\",\"0  -3\\n3\",\"0  -4\\n4\",\"1  3\\n-4\",\"1  2\\n-3\",\"1  1\\n-2\",\"1  0\\n-1\",\"1  -1\\n0\",\"1  -2\\n1\",\"1  -3\\n2\",\"1  -4\\n3\",\"2  2\\n-4\",\"2  1\\n-3\",\"2  0\\n-2\",\"2  -1\\n-1\",\"2  -2\\n0\",\"2  -3\\n1\",\"2  -4\\n2\",\"3  1\\n-4\",\"3  0\\n-3\",\"3  -1\\n-2\",\"3  -2\\n-1\",\"3  -3\\n0\",\"3  -4\\n1\",\"4  0\\n-4\",\"4  -1\\n-3\",\"4  -2\\n-2\",\"4  -3\\n-1\",\"4  -4\\n0\"],\"x\":{\"__ndarray__\":\"qkxY6Hq2G8AVQ02Lqz8YwIA5Qi7cyBTA6i830QxSEcCqTFjoerYLwBVDTYurPxjAgDlCLtzIFMDqLzfRDFIRwKpMWOh6tgvAgDlCLtzIBMCqTFjoerb7v4A5Qi7cyBTA6i830QxSEcCqTFjoerYLwIA5Qi7cyATAqkxY6Hq2+7+qTFjoerbrvwAAAAAAAAAA6i830QxSEcCqTFjoerYLwIA5Qi7cyATAqkxY6Hq2+7+qTFjoerbrvwAAAAAAAAAAqkxY6Hq26z+qTFjoerb7P6pMWOh6tgvAgDlCLtzIBMCqTFjoerb7v6pMWOh6tuu/AAAAAAAAAACqTFjoerbrP6pMWOh6tvs/gDlCLtzIBECqTFjoerYLQKpMWOh6tvu/qkxY6Hq2678AAAAAAAAAAKpMWOh6tus/qkxY6Hq2+z+AOUIu3MgEQKpMWOh6tgtA6i830QxSEUAAAAAAAAAAAKpMWOh6tus/qkxY6Hq2+z+AOUIu3MgEQKpMWOh6tgtA6i830QxSEUCAOUIu3MgUQKpMWOh6tvs/gDlCLtzIBECqTFjoerYLQOovN9EMUhFAgDlCLtzIFEAVQ02Lqz8YQKpMWOh6tgtA6i830QxSEUCAOUIu3MgUQBVDTYurPxhAqkxY6Hq2G0A=\",\"dtype\":\"float64\",\"shape\":[61]},\"y\":{\"__ndarray__\":\"AAAAAAAAAIAAAAAAAAD4vwAAAAAAAAjAAAAAAAAAEsAAAAAAAAAYwAAAAAAAAPg/AAAAAAAAAIAAAAAAAAD4vwAAAAAAAAjAAAAAAAAAEsAAAAAAAAAYwAAAAAAAAAhAAAAAAAAA+D8AAAAAAAAAgAAAAAAAAPi/AAAAAAAACMAAAAAAAAASwAAAAAAAABjAAAAAAAAAEkAAAAAAAAAIQAAAAAAAAPg/AAAAAAAAAIAAAAAAAAD4vwAAAAAAAAjAAAAAAAAAEsAAAAAAAAAYwAAAAAAAABhAAAAAAAAAEkAAAAAAAAAIQAAAAAAAAPg/AAAAAAAAAIAAAAAAAAD4vwAAAAAAAAjAAAAAAAAAEsAAAAAAAAAYwAAAAAAAABhAAAAAAAAAEkAAAAAAAAAIQAAAAAAAAPg/AAAAAAAAAIAAAAAAAAD4vwAAAAAAAAjAAAAAAAAAEsAAAAAAAAAYQAAAAAAAABJAAAAAAAAACEAAAAAAAAD4PwAAAAAAAACAAAAAAAAA+L8AAAAAAAAIwAAAAAAAABhAAAAAAAAAEkAAAAAAAAAIQAAAAAAAAPg/AAAAAAAAAIAAAAAAAAD4vwAAAAAAABhAAAAAAAAAEkAAAAAAAAAIQAAAAAAAAPg/AAAAAAAAAIA=\",\"dtype\":\"float64\",\"shape\":[61]}},\"selected\":{\"id\":\"1182\",\"type\":\"Selection\"},\"selection_policy\":{\"id\":\"1183\",\"type\":\"UnionRenderers\"}},\"id\":\"1158\",\"type\":\"ColumnDataSource\"},{\"attributes\":{\"text\":\"\"},\"id\":\"1175\",\"type\":\"Title\"},{\"attributes\":{},\"id\":\"1177\",\"type\":\"BasicTickFormatter\"},{\"attributes\":{},\"id\":\"1145\",\"type\":\"HelpTool\"},{\"attributes\":{},\"id\":\"1180\",\"type\":\"Selection\"},{\"attributes\":{\"source\":{\"id\":\"1153\",\"type\":\"ColumnDataSource\"}},\"id\":\"1157\",\"type\":\"CDSView\"},{\"attributes\":{},\"id\":\"1179\",\"type\":\"BasicTickFormatter\"},{\"attributes\":{},\"id\":\"1181\",\"type\":\"UnionRenderers\"},{\"attributes\":{},\"id\":\"1182\",\"type\":\"Selection\"},{\"attributes\":{},\"id\":\"1183\",\"type\":\"UnionRenderers\"},{\"attributes\":{\"bottom_units\":\"screen\",\"fill_alpha\":{\"value\":0.5},\"fill_color\":{\"value\":\"lightgrey\"},\"left_units\":\"screen\",\"level\":\"overlay\",\"line_alpha\":{\"value\":1.0},\"line_color\":{\"value\":\"black\"},\"line_dash\":[4,4],\"line_width\":{\"value\":2},\"render_mode\":\"css\",\"right_units\":\"screen\",\"top_units\":\"screen\"},\"id\":\"1184\",\"type\":\"BoxAnnotation\"},{\"attributes\":{\"active_drag\":\"auto\",\"active_inspect\":\"auto\",\"active_multi\":null,\"active_scroll\":\"auto\",\"active_tap\":\"auto\",\"tools\":[{\"id\":\"1140\",\"type\":\"PanTool\"},{\"id\":\"1141\",\"type\":\"WheelZoomTool\"},{\"id\":\"1142\",\"type\":\"BoxZoomTool\"},{\"id\":\"1143\",\"type\":\"SaveTool\"},{\"id\":\"1144\",\"type\":\"ResetTool\"},{\"id\":\"1145\",\"type\":\"HelpTool\"}]},\"id\":\"1146\",\"type\":\"Toolbar\"},{\"attributes\":{},\"id\":\"1126\",\"type\":\"LinearScale\"},{\"attributes\":{\"callback\":null},\"id\":\"1122\",\"type\":\"DataRange1d\"},{\"attributes\":{},\"id\":\"1141\",\"type\":\"WheelZoomTool\"},{\"attributes\":{\"formatter\":{\"id\":\"1177\",\"type\":\"BasicTickFormatter\"},\"ticker\":{\"id\":\"1131\",\"type\":\"BasicTicker\"}},\"id\":\"1130\",\"type\":\"LinearAxis\"},{\"attributes\":{\"fill_alpha\":{\"value\":0.1},\"fill_color\":{\"value\":\"#1f77b4\"},\"line_alpha\":{\"value\":0.1},\"line_color\":{\"value\":\"#1f77b4\"},\"q\":{\"field\":\"q\"},\"r\":{\"field\":\"r\"}},\"id\":\"1155\",\"type\":\"HexTile\"},{\"attributes\":{\"dimension\":1,\"ticker\":{\"id\":\"1136\",\"type\":\"BasicTicker\"},\"visible\":false},\"id\":\"1139\",\"type\":\"Grid\"},{\"attributes\":{\"overlay\":{\"id\":\"1184\",\"type\":\"BoxAnnotation\"}},\"id\":\"1142\",\"type\":\"BoxZoomTool\"},{\"attributes\":{\"data_source\":{\"id\":\"1153\",\"type\":\"ColumnDataSource\"},\"glyph\":{\"id\":\"1154\",\"type\":\"HexTile\"},\"hover_glyph\":null,\"muted_glyph\":null,\"nonselection_glyph\":{\"id\":\"1155\",\"type\":\"HexTile\"},\"selection_glyph\":null,\"view\":{\"id\":\"1157\",\"type\":\"CDSView\"}},\"id\":\"1156\",\"type\":\"GlyphRenderer\"},{\"attributes\":{},\"id\":\"1131\",\"type\":\"BasicTicker\"},{\"attributes\":{\"callback\":null},\"id\":\"1124\",\"type\":\"DataRange1d\"},{\"attributes\":{},\"id\":\"1128\",\"type\":\"LinearScale\"},{\"attributes\":{\"ticker\":{\"id\":\"1131\",\"type\":\"BasicTicker\"},\"visible\":false},\"id\":\"1134\",\"type\":\"Grid\"},{\"attributes\":{},\"id\":\"1136\",\"type\":\"BasicTicker\"},{\"attributes\":{\"fill_alpha\":{\"value\":0.5},\"fill_color\":{\"field\":\"fill_color\"},\"line_alpha\":{\"value\":0.5},\"line_color\":{\"value\":\"white\"},\"q\":{\"field\":\"q\"},\"r\":{\"field\":\"r\"}},\"id\":\"1154\",\"type\":\"HexTile\"},{\"attributes\":{},\"id\":\"1140\",\"type\":\"PanTool\"},{\"attributes\":{\"formatter\":{\"id\":\"1179\",\"type\":\"BasicTickFormatter\"},\"ticker\":{\"id\":\"1136\",\"type\":\"BasicTicker\"}},\"id\":\"1135\",\"type\":\"LinearAxis\"},{\"attributes\":{\"callback\":null,\"data\":{\"fill_color\":[\"red\",\"blue\",\"blue\",\"blue\",\"red\",\"blue\",\"red\",\"blue\",\"blue\",\"red\",\"blue\",\"blue\",\"blue\",\"red\",\"blue\",\"red\",\"blue\",\"blue\",\"blue\",\"blue\",\"blue\",\"red\",\"red\",\"blue\",\"blue\",\"blue\",\"red\",\"red\",\"red\",\"red\",\"red\",\"red\",\"red\",\"red\",\"red\",\"blue\",\"blue\",\"blue\",\"red\",\"red\",\"blue\",\"blue\",\"blue\",\"blue\",\"blue\",\"red\",\"blue\",\"red\",\"blue\",\"blue\",\"blue\",\"red\",\"blue\",\"blue\",\"red\",\"blue\",\"red\",\"blue\",\"blue\",\"blue\",\"red\"],\"q\":{\"__ndarray__\":\"/P////z////8/////P////z////9/////f////3////9/////f////3////+/////v////7////+/////v////7////+//////////////////////////////////////////////8AAAAAAAAAAAAAAAAAAAAAAAAAAAAAAAAAAAAAAAAAAAAAAAABAAAAAQAAAAEAAAABAAAAAQAAAAEAAAABAAAAAQAAAAIAAAACAAAAAgAAAAIAAAACAAAAAgAAAAIAAAADAAAAAwAAAAMAAAADAAAAAwAAAAMAAAAEAAAABAAAAAQAAAAEAAAABAAAAA==\",\"dtype\":\"int32\",\"shape\":[61]},\"r\":{\"__ndarray__\":\"AAAAAAEAAAACAAAAAwAAAAQAAAD/////AAAAAAEAAAACAAAAAwAAAAQAAAD+/////////wAAAAABAAAAAgAAAAMAAAAEAAAA/f////7/////////AAAAAAEAAAACAAAAAwAAAAQAAAD8/////f////7/////////AAAAAAEAAAACAAAAAwAAAAQAAAD8/////f////7/////////AAAAAAEAAAACAAAAAwAAAPz////9/////v////////8AAAAAAQAAAAIAAAD8/////f////7/////////AAAAAAEAAAD8/////f////7/////////AAAAAA==\",\"dtype\":\"int32\",\"shape\":[61]}},\"selected\":{\"id\":\"1180\",\"type\":\"Selection\"},\"selection_policy\":{\"id\":\"1181\",\"type\":\"UnionRenderers\"}},\"id\":\"1153\",\"type\":\"ColumnDataSource\"}],\"root_ids\":[\"1121\"]},\"title\":\"Bokeh Application\",\"version\":\"1.3.4\"}};\n",
       "  var render_items = [{\"docid\":\"ac97890f-dfd7-4aa8-9fcc-4bcb6e8a9dc0\",\"roots\":{\"1121\":\"543085a1-1c92-4df3-9845-110a1366dbac\"}}];\n",
       "  root.Bokeh.embed.embed_items_notebook(docs_json, render_items);\n",
       "\n",
       "  }\n",
       "  if (root.Bokeh !== undefined) {\n",
       "    embed_document(root);\n",
       "  } else {\n",
       "    var attempts = 0;\n",
       "    var timer = setInterval(function(root) {\n",
       "      if (root.Bokeh !== undefined) {\n",
       "        embed_document(root);\n",
       "        clearInterval(timer);\n",
       "      }\n",
       "      attempts++;\n",
       "      if (attempts > 100) {\n",
       "        console.log(\"Bokeh: ERROR: Unable to run BokehJS code because BokehJS library is missing\");\n",
       "        clearInterval(timer);\n",
       "      }\n",
       "    }, 10, root)\n",
       "  }\n",
       "})(window);"
      ],
      "application/vnd.bokehjs_exec.v0+json": ""
     },
     "metadata": {
      "application/vnd.bokehjs_exec.v0+json": {
       "id": "1121"
      }
     },
     "output_type": "display_data"
    }
   ],
   "source": [
    "def test_axis(a):\n",
    "    return any(x==0 for x in a)\n",
    "\n",
    "draw_grid(5,test_axis)"
   ]
  },
  {
   "cell_type": "code",
   "execution_count": 5,
   "metadata": {
    "scrolled": false
   },
   "outputs": [
    {
     "data": {
      "text/html": [
       "\n",
       "\n",
       "\n",
       "\n",
       "\n",
       "\n",
       "  <div class=\"bk-root\" id=\"2288603e-24bd-49f1-a427-2f2a052a7688\" data-root-id=\"1251\"></div>\n"
      ]
     },
     "metadata": {},
     "output_type": "display_data"
    },
    {
     "data": {
      "application/javascript": [
       "(function(root) {\n",
       "  function embed_document(root) {\n",
       "    \n",
       "  var docs_json = {\"b6999519-a3b9-4b99-a52d-64b249bf09f2\":{\"roots\":{\"references\":[{\"attributes\":{\"below\":[{\"id\":\"1260\",\"type\":\"LinearAxis\"}],\"center\":[{\"id\":\"1264\",\"type\":\"Grid\"},{\"id\":\"1269\",\"type\":\"Grid\"}],\"left\":[{\"id\":\"1265\",\"type\":\"LinearAxis\"}],\"renderers\":[{\"id\":\"1286\",\"type\":\"GlyphRenderer\"},{\"id\":\"1291\",\"type\":\"GlyphRenderer\"}],\"title\":{\"id\":\"1316\",\"type\":\"Title\"},\"toolbar\":{\"id\":\"1276\",\"type\":\"Toolbar\"},\"toolbar_location\":null,\"x_range\":{\"id\":\"1252\",\"type\":\"DataRange1d\"},\"x_scale\":{\"id\":\"1256\",\"type\":\"LinearScale\"},\"y_range\":{\"id\":\"1254\",\"type\":\"DataRange1d\"},\"y_scale\":{\"id\":\"1258\",\"type\":\"LinearScale\"}},\"id\":\"1251\",\"subtype\":\"Figure\",\"type\":\"Plot\"},{\"attributes\":{\"active_drag\":\"auto\",\"active_inspect\":\"auto\",\"active_multi\":null,\"active_scroll\":\"auto\",\"active_tap\":\"auto\",\"tools\":[{\"id\":\"1270\",\"type\":\"PanTool\"},{\"id\":\"1271\",\"type\":\"WheelZoomTool\"},{\"id\":\"1272\",\"type\":\"BoxZoomTool\"},{\"id\":\"1273\",\"type\":\"SaveTool\"},{\"id\":\"1274\",\"type\":\"ResetTool\"},{\"id\":\"1275\",\"type\":\"HelpTool\"}]},\"id\":\"1276\",\"type\":\"Toolbar\"},{\"attributes\":{\"callback\":null,\"data\":{\"fill_color\":[\"blue\",\"blue\",\"blue\",\"blue\",\"red\",\"blue\",\"blue\",\"blue\",\"blue\",\"red\",\"blue\",\"blue\",\"blue\",\"blue\",\"blue\",\"red\",\"blue\",\"blue\",\"blue\",\"blue\",\"blue\",\"blue\",\"red\",\"blue\",\"blue\",\"blue\",\"red\",\"red\",\"red\",\"red\",\"red\",\"blue\",\"blue\",\"blue\",\"blue\",\"blue\",\"blue\",\"blue\",\"blue\",\"red\",\"blue\",\"blue\",\"blue\",\"blue\",\"blue\",\"blue\",\"blue\",\"red\",\"blue\",\"blue\",\"blue\",\"blue\",\"blue\",\"blue\",\"red\",\"blue\",\"blue\",\"blue\",\"blue\",\"blue\",\"red\"],\"q\":{\"__ndarray__\":\"/P////z////8/////P////z////9/////f////3////9/////f////3////+/////v////7////+/////v////7////+//////////////////////////////////////////////8AAAAAAAAAAAAAAAAAAAAAAAAAAAAAAAAAAAAAAAAAAAAAAAABAAAAAQAAAAEAAAABAAAAAQAAAAEAAAABAAAAAQAAAAIAAAACAAAAAgAAAAIAAAACAAAAAgAAAAIAAAADAAAAAwAAAAMAAAADAAAAAwAAAAMAAAAEAAAABAAAAAQAAAAEAAAABAAAAA==\",\"dtype\":\"int32\",\"shape\":[61]},\"r\":{\"__ndarray__\":\"AAAAAAEAAAACAAAAAwAAAAQAAAD/////AAAAAAEAAAACAAAAAwAAAAQAAAD+/////////wAAAAABAAAAAgAAAAMAAAAEAAAA/f////7/////////AAAAAAEAAAACAAAAAwAAAAQAAAD8/////f////7/////////AAAAAAEAAAACAAAAAwAAAAQAAAD8/////f////7/////////AAAAAAEAAAACAAAAAwAAAPz////9/////v////////8AAAAAAQAAAAIAAAD8/////f////7/////////AAAAAAEAAAD8/////f////7/////////AAAAAA==\",\"dtype\":\"int32\",\"shape\":[61]}},\"selected\":{\"id\":\"1321\",\"type\":\"Selection\"},\"selection_policy\":{\"id\":\"1322\",\"type\":\"UnionRenderers\"}},\"id\":\"1283\",\"type\":\"ColumnDataSource\"},{\"attributes\":{},\"id\":\"1270\",\"type\":\"PanTool\"},{\"attributes\":{},\"id\":\"1271\",\"type\":\"WheelZoomTool\"},{\"attributes\":{\"overlay\":{\"id\":\"1325\",\"type\":\"BoxAnnotation\"}},\"id\":\"1272\",\"type\":\"BoxZoomTool\"},{\"attributes\":{\"text_align\":\"center\",\"text_alpha\":{\"value\":0.1},\"text_baseline\":\"middle\",\"text_color\":{\"value\":\"black\"},\"x\":{\"field\":\"x\"},\"y\":{\"field\":\"y\"}},\"id\":\"1290\",\"type\":\"Text\"},{\"attributes\":{},\"id\":\"1273\",\"type\":\"SaveTool\"},{\"attributes\":{\"source\":{\"id\":\"1288\",\"type\":\"ColumnDataSource\"}},\"id\":\"1292\",\"type\":\"CDSView\"},{\"attributes\":{},\"id\":\"1274\",\"type\":\"ResetTool\"},{\"attributes\":{\"data_source\":{\"id\":\"1288\",\"type\":\"ColumnDataSource\"},\"glyph\":{\"id\":\"1289\",\"type\":\"Text\"},\"hover_glyph\":null,\"muted_glyph\":null,\"nonselection_glyph\":{\"id\":\"1290\",\"type\":\"Text\"},\"selection_glyph\":null,\"view\":{\"id\":\"1292\",\"type\":\"CDSView\"}},\"id\":\"1291\",\"type\":\"GlyphRenderer\"},{\"attributes\":{\"source\":{\"id\":\"1283\",\"type\":\"ColumnDataSource\"}},\"id\":\"1287\",\"type\":\"CDSView\"},{\"attributes\":{},\"id\":\"1275\",\"type\":\"HelpTool\"},{\"attributes\":{\"text\":\"\"},\"id\":\"1316\",\"type\":\"Title\"},{\"attributes\":{},\"id\":\"1318\",\"type\":\"BasicTickFormatter\"},{\"attributes\":{\"data_source\":{\"id\":\"1283\",\"type\":\"ColumnDataSource\"},\"glyph\":{\"id\":\"1284\",\"type\":\"HexTile\"},\"hover_glyph\":null,\"muted_glyph\":null,\"nonselection_glyph\":{\"id\":\"1285\",\"type\":\"HexTile\"},\"selection_glyph\":null,\"view\":{\"id\":\"1287\",\"type\":\"CDSView\"}},\"id\":\"1286\",\"type\":\"GlyphRenderer\"},{\"attributes\":{\"fill_alpha\":{\"value\":0.5},\"fill_color\":{\"field\":\"fill_color\"},\"line_alpha\":{\"value\":0.5},\"line_color\":{\"value\":\"white\"},\"q\":{\"field\":\"q\"},\"r\":{\"field\":\"r\"}},\"id\":\"1284\",\"type\":\"HexTile\"},{\"attributes\":{},\"id\":\"1321\",\"type\":\"Selection\"},{\"attributes\":{},\"id\":\"1320\",\"type\":\"BasicTickFormatter\"},{\"attributes\":{\"fill_alpha\":{\"value\":0.1},\"fill_color\":{\"value\":\"#1f77b4\"},\"line_alpha\":{\"value\":0.1},\"line_color\":{\"value\":\"#1f77b4\"},\"q\":{\"field\":\"q\"},\"r\":{\"field\":\"r\"}},\"id\":\"1285\",\"type\":\"HexTile\"},{\"attributes\":{},\"id\":\"1322\",\"type\":\"UnionRenderers\"},{\"attributes\":{\"ticker\":{\"id\":\"1261\",\"type\":\"BasicTicker\"},\"visible\":false},\"id\":\"1264\",\"type\":\"Grid\"},{\"attributes\":{\"text_align\":\"center\",\"text_baseline\":\"middle\",\"text_color\":{\"value\":\"black\"},\"x\":{\"field\":\"x\"},\"y\":{\"field\":\"y\"}},\"id\":\"1289\",\"type\":\"Text\"},{\"attributes\":{},\"id\":\"1323\",\"type\":\"Selection\"},{\"attributes\":{},\"id\":\"1324\",\"type\":\"UnionRenderers\"},{\"attributes\":{\"callback\":null,\"data\":{\"text\":[\"-4  4\\n0\",\"-4  3\\n1\",\"-4  2\\n2\",\"-4  1\\n3\",\"-4  0\\n4\",\"-3  4\\n-1\",\"-3  3\\n0\",\"-3  2\\n1\",\"-3  1\\n2\",\"-3  0\\n3\",\"-3  -1\\n4\",\"-2  4\\n-2\",\"-2  3\\n-1\",\"-2  2\\n0\",\"-2  1\\n1\",\"-2  0\\n2\",\"-2  -1\\n3\",\"-2  -2\\n4\",\"-1  4\\n-3\",\"-1  3\\n-2\",\"-1  2\\n-1\",\"-1  1\\n0\",\"-1  0\\n1\",\"-1  -1\\n2\",\"-1  -2\\n3\",\"-1  -3\\n4\",\"0  4\\n-4\",\"0  3\\n-3\",\"0  2\\n-2\",\"0  1\\n-1\",\"0  0\\n0\",\"0  -1\\n1\",\"0  -2\\n2\",\"0  -3\\n3\",\"0  -4\\n4\",\"1  3\\n-4\",\"1  2\\n-3\",\"1  1\\n-2\",\"1  0\\n-1\",\"1  -1\\n0\",\"1  -2\\n1\",\"1  -3\\n2\",\"1  -4\\n3\",\"2  2\\n-4\",\"2  1\\n-3\",\"2  0\\n-2\",\"2  -1\\n-1\",\"2  -2\\n0\",\"2  -3\\n1\",\"2  -4\\n2\",\"3  1\\n-4\",\"3  0\\n-3\",\"3  -1\\n-2\",\"3  -2\\n-1\",\"3  -3\\n0\",\"3  -4\\n1\",\"4  0\\n-4\",\"4  -1\\n-3\",\"4  -2\\n-2\",\"4  -3\\n-1\",\"4  -4\\n0\"],\"x\":{\"__ndarray__\":\"qkxY6Hq2G8AVQ02Lqz8YwIA5Qi7cyBTA6i830QxSEcCqTFjoerYLwBVDTYurPxjAgDlCLtzIFMDqLzfRDFIRwKpMWOh6tgvAgDlCLtzIBMCqTFjoerb7v4A5Qi7cyBTA6i830QxSEcCqTFjoerYLwIA5Qi7cyATAqkxY6Hq2+7+qTFjoerbrvwAAAAAAAAAA6i830QxSEcCqTFjoerYLwIA5Qi7cyATAqkxY6Hq2+7+qTFjoerbrvwAAAAAAAAAAqkxY6Hq26z+qTFjoerb7P6pMWOh6tgvAgDlCLtzIBMCqTFjoerb7v6pMWOh6tuu/AAAAAAAAAACqTFjoerbrP6pMWOh6tvs/gDlCLtzIBECqTFjoerYLQKpMWOh6tvu/qkxY6Hq2678AAAAAAAAAAKpMWOh6tus/qkxY6Hq2+z+AOUIu3MgEQKpMWOh6tgtA6i830QxSEUAAAAAAAAAAAKpMWOh6tus/qkxY6Hq2+z+AOUIu3MgEQKpMWOh6tgtA6i830QxSEUCAOUIu3MgUQKpMWOh6tvs/gDlCLtzIBECqTFjoerYLQOovN9EMUhFAgDlCLtzIFEAVQ02Lqz8YQKpMWOh6tgtA6i830QxSEUCAOUIu3MgUQBVDTYurPxhAqkxY6Hq2G0A=\",\"dtype\":\"float64\",\"shape\":[61]},\"y\":{\"__ndarray__\":\"AAAAAAAAAIAAAAAAAAD4vwAAAAAAAAjAAAAAAAAAEsAAAAAAAAAYwAAAAAAAAPg/AAAAAAAAAIAAAAAAAAD4vwAAAAAAAAjAAAAAAAAAEsAAAAAAAAAYwAAAAAAAAAhAAAAAAAAA+D8AAAAAAAAAgAAAAAAAAPi/AAAAAAAACMAAAAAAAAASwAAAAAAAABjAAAAAAAAAEkAAAAAAAAAIQAAAAAAAAPg/AAAAAAAAAIAAAAAAAAD4vwAAAAAAAAjAAAAAAAAAEsAAAAAAAAAYwAAAAAAAABhAAAAAAAAAEkAAAAAAAAAIQAAAAAAAAPg/AAAAAAAAAIAAAAAAAAD4vwAAAAAAAAjAAAAAAAAAEsAAAAAAAAAYwAAAAAAAABhAAAAAAAAAEkAAAAAAAAAIQAAAAAAAAPg/AAAAAAAAAIAAAAAAAAD4vwAAAAAAAAjAAAAAAAAAEsAAAAAAAAAYQAAAAAAAABJAAAAAAAAACEAAAAAAAAD4PwAAAAAAAACAAAAAAAAA+L8AAAAAAAAIwAAAAAAAABhAAAAAAAAAEkAAAAAAAAAIQAAAAAAAAPg/AAAAAAAAAIAAAAAAAAD4vwAAAAAAABhAAAAAAAAAEkAAAAAAAAAIQAAAAAAAAPg/AAAAAAAAAIA=\",\"dtype\":\"float64\",\"shape\":[61]}},\"selected\":{\"id\":\"1323\",\"type\":\"Selection\"},\"selection_policy\":{\"id\":\"1324\",\"type\":\"UnionRenderers\"}},\"id\":\"1288\",\"type\":\"ColumnDataSource\"},{\"attributes\":{\"bottom_units\":\"screen\",\"fill_alpha\":{\"value\":0.5},\"fill_color\":{\"value\":\"lightgrey\"},\"left_units\":\"screen\",\"level\":\"overlay\",\"line_alpha\":{\"value\":1.0},\"line_color\":{\"value\":\"black\"},\"line_dash\":[4,4],\"line_width\":{\"value\":2},\"render_mode\":\"css\",\"right_units\":\"screen\",\"top_units\":\"screen\"},\"id\":\"1325\",\"type\":\"BoxAnnotation\"},{\"attributes\":{},\"id\":\"1261\",\"type\":\"BasicTicker\"},{\"attributes\":{},\"id\":\"1266\",\"type\":\"BasicTicker\"},{\"attributes\":{\"dimension\":1,\"ticker\":{\"id\":\"1266\",\"type\":\"BasicTicker\"},\"visible\":false},\"id\":\"1269\",\"type\":\"Grid\"},{\"attributes\":{},\"id\":\"1256\",\"type\":\"LinearScale\"},{\"attributes\":{\"formatter\":{\"id\":\"1320\",\"type\":\"BasicTickFormatter\"},\"ticker\":{\"id\":\"1266\",\"type\":\"BasicTicker\"}},\"id\":\"1265\",\"type\":\"LinearAxis\"},{\"attributes\":{\"callback\":null},\"id\":\"1254\",\"type\":\"DataRange1d\"},{\"attributes\":{\"callback\":null},\"id\":\"1252\",\"type\":\"DataRange1d\"},{\"attributes\":{},\"id\":\"1258\",\"type\":\"LinearScale\"},{\"attributes\":{\"formatter\":{\"id\":\"1318\",\"type\":\"BasicTickFormatter\"},\"ticker\":{\"id\":\"1261\",\"type\":\"BasicTicker\"}},\"id\":\"1260\",\"type\":\"LinearAxis\"}],\"root_ids\":[\"1251\"]},\"title\":\"Bokeh Application\",\"version\":\"1.3.4\"}};\n",
       "  var render_items = [{\"docid\":\"b6999519-a3b9-4b99-a52d-64b249bf09f2\",\"roots\":{\"1251\":\"2288603e-24bd-49f1-a427-2f2a052a7688\"}}];\n",
       "  root.Bokeh.embed.embed_items_notebook(docs_json, render_items);\n",
       "\n",
       "  }\n",
       "  if (root.Bokeh !== undefined) {\n",
       "    embed_document(root);\n",
       "  } else {\n",
       "    var attempts = 0;\n",
       "    var timer = setInterval(function(root) {\n",
       "      if (root.Bokeh !== undefined) {\n",
       "        embed_document(root);\n",
       "        clearInterval(timer);\n",
       "      }\n",
       "      attempts++;\n",
       "      if (attempts > 100) {\n",
       "        console.log(\"Bokeh: ERROR: Unable to run BokehJS code because BokehJS library is missing\");\n",
       "        clearInterval(timer);\n",
       "      }\n",
       "    }, 10, root)\n",
       "  }\n",
       "})(window);"
      ],
      "application/vnd.bokehjs_exec.v0+json": ""
     },
     "metadata": {
      "application/vnd.bokehjs_exec.v0+json": {
       "id": "1251"
      }
     },
     "output_type": "display_data"
    }
   ],
   "source": [
    "def test_pos_axis(x):\n",
    "    return (x[0]==0 and x[2]<=0) or  (x[2]==0 and x[0]>=0) or  (x[1]==0 and x[2]>=0)\n",
    "\n",
    "draw_grid(5,test_pos_axis)"
   ]
  },
  {
   "cell_type": "code",
   "execution_count": 6,
   "metadata": {},
   "outputs": [
    {
     "data": {
      "text/html": [
       "\n",
       "\n",
       "\n",
       "\n",
       "\n",
       "\n",
       "  <div class=\"bk-root\" id=\"a85930a0-72b7-4891-912f-59aa52cab0b0\" data-root-id=\"1392\"></div>\n"
      ]
     },
     "metadata": {},
     "output_type": "display_data"
    },
    {
     "data": {
      "application/javascript": [
       "(function(root) {\n",
       "  function embed_document(root) {\n",
       "    \n",
       "  var docs_json = {\"e86cf56f-0192-427a-9d4a-31c780090cd9\":{\"roots\":{\"references\":[{\"attributes\":{\"below\":[{\"id\":\"1401\",\"type\":\"LinearAxis\"}],\"center\":[{\"id\":\"1405\",\"type\":\"Grid\"},{\"id\":\"1410\",\"type\":\"Grid\"}],\"left\":[{\"id\":\"1406\",\"type\":\"LinearAxis\"}],\"renderers\":[{\"id\":\"1427\",\"type\":\"GlyphRenderer\"},{\"id\":\"1432\",\"type\":\"GlyphRenderer\"}],\"title\":{\"id\":\"1468\",\"type\":\"Title\"},\"toolbar\":{\"id\":\"1417\",\"type\":\"Toolbar\"},\"toolbar_location\":null,\"x_range\":{\"id\":\"1393\",\"type\":\"DataRange1d\"},\"x_scale\":{\"id\":\"1397\",\"type\":\"LinearScale\"},\"y_range\":{\"id\":\"1395\",\"type\":\"DataRange1d\"},\"y_scale\":{\"id\":\"1399\",\"type\":\"LinearScale\"}},\"id\":\"1392\",\"subtype\":\"Figure\",\"type\":\"Plot\"},{\"attributes\":{\"dimension\":1,\"ticker\":{\"id\":\"1407\",\"type\":\"BasicTicker\"},\"visible\":false},\"id\":\"1410\",\"type\":\"Grid\"},{\"attributes\":{},\"id\":\"1407\",\"type\":\"BasicTicker\"},{\"attributes\":{\"formatter\":{\"id\":\"1472\",\"type\":\"BasicTickFormatter\"},\"ticker\":{\"id\":\"1407\",\"type\":\"BasicTicker\"}},\"id\":\"1406\",\"type\":\"LinearAxis\"},{\"attributes\":{\"formatter\":{\"id\":\"1470\",\"type\":\"BasicTickFormatter\"},\"ticker\":{\"id\":\"1402\",\"type\":\"BasicTicker\"}},\"id\":\"1401\",\"type\":\"LinearAxis\"},{\"attributes\":{\"callback\":null},\"id\":\"1395\",\"type\":\"DataRange1d\"},{\"attributes\":{},\"id\":\"1402\",\"type\":\"BasicTicker\"},{\"attributes\":{\"active_drag\":\"auto\",\"active_inspect\":\"auto\",\"active_multi\":null,\"active_scroll\":\"auto\",\"active_tap\":\"auto\",\"tools\":[{\"id\":\"1411\",\"type\":\"PanTool\"},{\"id\":\"1412\",\"type\":\"WheelZoomTool\"},{\"id\":\"1413\",\"type\":\"BoxZoomTool\"},{\"id\":\"1414\",\"type\":\"SaveTool\"},{\"id\":\"1415\",\"type\":\"ResetTool\"},{\"id\":\"1416\",\"type\":\"HelpTool\"}]},\"id\":\"1417\",\"type\":\"Toolbar\"},{\"attributes\":{\"callback\":null,\"data\":{\"fill_color\":[\"blue\",\"red\",\"red\",\"red\",\"red\",\"blue\",\"blue\",\"red\",\"red\",\"red\",\"blue\",\"blue\",\"blue\",\"blue\",\"red\",\"red\",\"blue\",\"blue\",\"blue\",\"blue\",\"blue\",\"blue\",\"red\",\"blue\",\"blue\",\"blue\",\"red\",\"red\",\"red\",\"red\",\"blue\",\"blue\",\"blue\",\"blue\",\"blue\",\"red\",\"red\",\"red\",\"blue\",\"red\",\"red\",\"red\",\"red\",\"red\",\"red\",\"blue\",\"blue\",\"red\",\"red\",\"red\",\"red\",\"blue\",\"blue\",\"blue\",\"red\",\"red\",\"blue\",\"blue\",\"blue\",\"blue\",\"red\"],\"q\":{\"__ndarray__\":\"/P////z////8/////P////z////9/////f////3////9/////f////3////+/////v////7////+/////v////7////+//////////////////////////////////////////////8AAAAAAAAAAAAAAAAAAAAAAAAAAAAAAAAAAAAAAAAAAAAAAAABAAAAAQAAAAEAAAABAAAAAQAAAAEAAAABAAAAAQAAAAIAAAACAAAAAgAAAAIAAAACAAAAAgAAAAIAAAADAAAAAwAAAAMAAAADAAAAAwAAAAMAAAAEAAAABAAAAAQAAAAEAAAABAAAAA==\",\"dtype\":\"int32\",\"shape\":[61]},\"r\":{\"__ndarray__\":\"AAAAAAEAAAACAAAAAwAAAAQAAAD/////AAAAAAEAAAACAAAAAwAAAAQAAAD+/////////wAAAAABAAAAAgAAAAMAAAAEAAAA/f////7/////////AAAAAAEAAAACAAAAAwAAAAQAAAD8/////f////7/////////AAAAAAEAAAACAAAAAwAAAAQAAAD8/////f////7/////////AAAAAAEAAAACAAAAAwAAAPz////9/////v////////8AAAAAAQAAAAIAAAD8/////f////7/////////AAAAAAEAAAD8/////f////7/////////AAAAAA==\",\"dtype\":\"int32\",\"shape\":[61]}},\"selected\":{\"id\":\"1473\",\"type\":\"Selection\"},\"selection_policy\":{\"id\":\"1474\",\"type\":\"UnionRenderers\"}},\"id\":\"1424\",\"type\":\"ColumnDataSource\"},{\"attributes\":{\"fill_alpha\":{\"value\":0.1},\"fill_color\":{\"value\":\"#1f77b4\"},\"line_alpha\":{\"value\":0.1},\"line_color\":{\"value\":\"#1f77b4\"},\"q\":{\"field\":\"q\"},\"r\":{\"field\":\"r\"}},\"id\":\"1426\",\"type\":\"HexTile\"},{\"attributes\":{},\"id\":\"1399\",\"type\":\"LinearScale\"},{\"attributes\":{},\"id\":\"1411\",\"type\":\"PanTool\"},{\"attributes\":{},\"id\":\"1412\",\"type\":\"WheelZoomTool\"},{\"attributes\":{\"overlay\":{\"id\":\"1477\",\"type\":\"BoxAnnotation\"}},\"id\":\"1413\",\"type\":\"BoxZoomTool\"},{\"attributes\":{\"text_align\":\"center\",\"text_alpha\":{\"value\":0.1},\"text_baseline\":\"middle\",\"text_color\":{\"value\":\"black\"},\"x\":{\"field\":\"x\"},\"y\":{\"field\":\"y\"}},\"id\":\"1431\",\"type\":\"Text\"},{\"attributes\":{},\"id\":\"1414\",\"type\":\"SaveTool\"},{\"attributes\":{\"source\":{\"id\":\"1429\",\"type\":\"ColumnDataSource\"}},\"id\":\"1433\",\"type\":\"CDSView\"},{\"attributes\":{},\"id\":\"1415\",\"type\":\"ResetTool\"},{\"attributes\":{\"data_source\":{\"id\":\"1429\",\"type\":\"ColumnDataSource\"},\"glyph\":{\"id\":\"1430\",\"type\":\"Text\"},\"hover_glyph\":null,\"muted_glyph\":null,\"nonselection_glyph\":{\"id\":\"1431\",\"type\":\"Text\"},\"selection_glyph\":null,\"view\":{\"id\":\"1433\",\"type\":\"CDSView\"}},\"id\":\"1432\",\"type\":\"GlyphRenderer\"},{\"attributes\":{},\"id\":\"1416\",\"type\":\"HelpTool\"},{\"attributes\":{\"ticker\":{\"id\":\"1402\",\"type\":\"BasicTicker\"},\"visible\":false},\"id\":\"1405\",\"type\":\"Grid\"},{\"attributes\":{\"text\":\"\"},\"id\":\"1468\",\"type\":\"Title\"},{\"attributes\":{\"source\":{\"id\":\"1424\",\"type\":\"ColumnDataSource\"}},\"id\":\"1428\",\"type\":\"CDSView\"},{\"attributes\":{},\"id\":\"1397\",\"type\":\"LinearScale\"},{\"attributes\":{},\"id\":\"1470\",\"type\":\"BasicTickFormatter\"},{\"attributes\":{},\"id\":\"1473\",\"type\":\"Selection\"},{\"attributes\":{\"data_source\":{\"id\":\"1424\",\"type\":\"ColumnDataSource\"},\"glyph\":{\"id\":\"1425\",\"type\":\"HexTile\"},\"hover_glyph\":null,\"muted_glyph\":null,\"nonselection_glyph\":{\"id\":\"1426\",\"type\":\"HexTile\"},\"selection_glyph\":null,\"view\":{\"id\":\"1428\",\"type\":\"CDSView\"}},\"id\":\"1427\",\"type\":\"GlyphRenderer\"},{\"attributes\":{\"text_align\":\"center\",\"text_baseline\":\"middle\",\"text_color\":{\"value\":\"black\"},\"x\":{\"field\":\"x\"},\"y\":{\"field\":\"y\"}},\"id\":\"1430\",\"type\":\"Text\"},{\"attributes\":{},\"id\":\"1472\",\"type\":\"BasicTickFormatter\"},{\"attributes\":{},\"id\":\"1474\",\"type\":\"UnionRenderers\"},{\"attributes\":{\"callback\":null,\"data\":{\"text\":[\"-4  4\\n0\",\"-4  3\\n1\",\"-4  2\\n2\",\"-4  1\\n3\",\"-4  0\\n4\",\"-3  4\\n-1\",\"-3  3\\n0\",\"-3  2\\n1\",\"-3  1\\n2\",\"-3  0\\n3\",\"-3  -1\\n4\",\"-2  4\\n-2\",\"-2  3\\n-1\",\"-2  2\\n0\",\"-2  1\\n1\",\"-2  0\\n2\",\"-2  -1\\n3\",\"-2  -2\\n4\",\"-1  4\\n-3\",\"-1  3\\n-2\",\"-1  2\\n-1\",\"-1  1\\n0\",\"-1  0\\n1\",\"-1  -1\\n2\",\"-1  -2\\n3\",\"-1  -3\\n4\",\"0  4\\n-4\",\"0  3\\n-3\",\"0  2\\n-2\",\"0  1\\n-1\",\"0  0\\n0\",\"0  -1\\n1\",\"0  -2\\n2\",\"0  -3\\n3\",\"0  -4\\n4\",\"1  3\\n-4\",\"1  2\\n-3\",\"1  1\\n-2\",\"1  0\\n-1\",\"1  -1\\n0\",\"1  -2\\n1\",\"1  -3\\n2\",\"1  -4\\n3\",\"2  2\\n-4\",\"2  1\\n-3\",\"2  0\\n-2\",\"2  -1\\n-1\",\"2  -2\\n0\",\"2  -3\\n1\",\"2  -4\\n2\",\"3  1\\n-4\",\"3  0\\n-3\",\"3  -1\\n-2\",\"3  -2\\n-1\",\"3  -3\\n0\",\"3  -4\\n1\",\"4  0\\n-4\",\"4  -1\\n-3\",\"4  -2\\n-2\",\"4  -3\\n-1\",\"4  -4\\n0\"],\"x\":{\"__ndarray__\":\"qkxY6Hq2G8AVQ02Lqz8YwIA5Qi7cyBTA6i830QxSEcCqTFjoerYLwBVDTYurPxjAgDlCLtzIFMDqLzfRDFIRwKpMWOh6tgvAgDlCLtzIBMCqTFjoerb7v4A5Qi7cyBTA6i830QxSEcCqTFjoerYLwIA5Qi7cyATAqkxY6Hq2+7+qTFjoerbrvwAAAAAAAAAA6i830QxSEcCqTFjoerYLwIA5Qi7cyATAqkxY6Hq2+7+qTFjoerbrvwAAAAAAAAAAqkxY6Hq26z+qTFjoerb7P6pMWOh6tgvAgDlCLtzIBMCqTFjoerb7v6pMWOh6tuu/AAAAAAAAAACqTFjoerbrP6pMWOh6tvs/gDlCLtzIBECqTFjoerYLQKpMWOh6tvu/qkxY6Hq2678AAAAAAAAAAKpMWOh6tus/qkxY6Hq2+z+AOUIu3MgEQKpMWOh6tgtA6i830QxSEUAAAAAAAAAAAKpMWOh6tus/qkxY6Hq2+z+AOUIu3MgEQKpMWOh6tgtA6i830QxSEUCAOUIu3MgUQKpMWOh6tvs/gDlCLtzIBECqTFjoerYLQOovN9EMUhFAgDlCLtzIFEAVQ02Lqz8YQKpMWOh6tgtA6i830QxSEUCAOUIu3MgUQBVDTYurPxhAqkxY6Hq2G0A=\",\"dtype\":\"float64\",\"shape\":[61]},\"y\":{\"__ndarray__\":\"AAAAAAAAAIAAAAAAAAD4vwAAAAAAAAjAAAAAAAAAEsAAAAAAAAAYwAAAAAAAAPg/AAAAAAAAAIAAAAAAAAD4vwAAAAAAAAjAAAAAAAAAEsAAAAAAAAAYwAAAAAAAAAhAAAAAAAAA+D8AAAAAAAAAgAAAAAAAAPi/AAAAAAAACMAAAAAAAAASwAAAAAAAABjAAAAAAAAAEkAAAAAAAAAIQAAAAAAAAPg/AAAAAAAAAIAAAAAAAAD4vwAAAAAAAAjAAAAAAAAAEsAAAAAAAAAYwAAAAAAAABhAAAAAAAAAEkAAAAAAAAAIQAAAAAAAAPg/AAAAAAAAAIAAAAAAAAD4vwAAAAAAAAjAAAAAAAAAEsAAAAAAAAAYwAAAAAAAABhAAAAAAAAAEkAAAAAAAAAIQAAAAAAAAPg/AAAAAAAAAIAAAAAAAAD4vwAAAAAAAAjAAAAAAAAAEsAAAAAAAAAYQAAAAAAAABJAAAAAAAAACEAAAAAAAAD4PwAAAAAAAACAAAAAAAAA+L8AAAAAAAAIwAAAAAAAABhAAAAAAAAAEkAAAAAAAAAIQAAAAAAAAPg/AAAAAAAAAIAAAAAAAAD4vwAAAAAAABhAAAAAAAAAEkAAAAAAAAAIQAAAAAAAAPg/AAAAAAAAAIA=\",\"dtype\":\"float64\",\"shape\":[61]}},\"selected\":{\"id\":\"1475\",\"type\":\"Selection\"},\"selection_policy\":{\"id\":\"1476\",\"type\":\"UnionRenderers\"}},\"id\":\"1429\",\"type\":\"ColumnDataSource\"},{\"attributes\":{},\"id\":\"1475\",\"type\":\"Selection\"},{\"attributes\":{},\"id\":\"1476\",\"type\":\"UnionRenderers\"},{\"attributes\":{\"bottom_units\":\"screen\",\"fill_alpha\":{\"value\":0.5},\"fill_color\":{\"value\":\"lightgrey\"},\"left_units\":\"screen\",\"level\":\"overlay\",\"line_alpha\":{\"value\":1.0},\"line_color\":{\"value\":\"black\"},\"line_dash\":[4,4],\"line_width\":{\"value\":2},\"render_mode\":\"css\",\"right_units\":\"screen\",\"top_units\":\"screen\"},\"id\":\"1477\",\"type\":\"BoxAnnotation\"},{\"attributes\":{\"fill_alpha\":{\"value\":0.5},\"fill_color\":{\"field\":\"fill_color\"},\"line_alpha\":{\"value\":0.5},\"line_color\":{\"value\":\"white\"},\"q\":{\"field\":\"q\"},\"r\":{\"field\":\"r\"}},\"id\":\"1425\",\"type\":\"HexTile\"},{\"attributes\":{\"callback\":null},\"id\":\"1393\",\"type\":\"DataRange1d\"}],\"root_ids\":[\"1392\"]},\"title\":\"Bokeh Application\",\"version\":\"1.3.4\"}};\n",
       "  var render_items = [{\"docid\":\"e86cf56f-0192-427a-9d4a-31c780090cd9\",\"roots\":{\"1392\":\"a85930a0-72b7-4891-912f-59aa52cab0b0\"}}];\n",
       "  root.Bokeh.embed.embed_items_notebook(docs_json, render_items);\n",
       "\n",
       "  }\n",
       "  if (root.Bokeh !== undefined) {\n",
       "    embed_document(root);\n",
       "  } else {\n",
       "    var attempts = 0;\n",
       "    var timer = setInterval(function(root) {\n",
       "      if (root.Bokeh !== undefined) {\n",
       "        embed_document(root);\n",
       "        clearInterval(timer);\n",
       "      }\n",
       "      attempts++;\n",
       "      if (attempts > 100) {\n",
       "        console.log(\"Bokeh: ERROR: Unable to run BokehJS code because BokehJS library is missing\");\n",
       "        clearInterval(timer);\n",
       "      }\n",
       "    }, 10, root)\n",
       "  }\n",
       "})(window);"
      ],
      "application/vnd.bokehjs_exec.v0+json": ""
     },
     "metadata": {
      "application/vnd.bokehjs_exec.v0+json": {
       "id": "1392"
      }
     },
     "output_type": "display_data"
    }
   ],
   "source": [
    "def test_wedges(a):\n",
    "    return (a[0]>0 and a[2]>=0) or (a[0]>=0 and a[1]>0) or (a[2]>0 and a[1]>=0)\n",
    "\n",
    "draw_grid(5,test_wedges)"
   ]
  },
  {
   "cell_type": "code",
   "execution_count": 8,
   "metadata": {},
   "outputs": [
    {
     "data": {
      "text/html": [
       "\n",
       "\n",
       "\n",
       "\n",
       "\n",
       "\n",
       "  <div class=\"bk-root\" id=\"19d72d9a-984a-4319-884d-d948ef4c8e63\" data-root-id=\"1707\"></div>\n"
      ]
     },
     "metadata": {},
     "output_type": "display_data"
    },
    {
     "data": {
      "application/javascript": [
       "(function(root) {\n",
       "  function embed_document(root) {\n",
       "    \n",
       "  var docs_json = {\"66ddc8e3-3211-4e11-bcee-67d18481e08c\":{\"roots\":{\"references\":[{\"attributes\":{\"below\":[{\"id\":\"1716\",\"type\":\"LinearAxis\"}],\"center\":[{\"id\":\"1720\",\"type\":\"Grid\"},{\"id\":\"1725\",\"type\":\"Grid\"}],\"left\":[{\"id\":\"1721\",\"type\":\"LinearAxis\"}],\"renderers\":[{\"id\":\"1742\",\"type\":\"GlyphRenderer\"},{\"id\":\"1747\",\"type\":\"GlyphRenderer\"}],\"title\":{\"id\":\"1805\",\"type\":\"Title\"},\"toolbar\":{\"id\":\"1732\",\"type\":\"Toolbar\"},\"toolbar_location\":null,\"x_range\":{\"id\":\"1708\",\"type\":\"DataRange1d\"},\"x_scale\":{\"id\":\"1712\",\"type\":\"LinearScale\"},\"y_range\":{\"id\":\"1710\",\"type\":\"DataRange1d\"},\"y_scale\":{\"id\":\"1714\",\"type\":\"LinearScale\"}},\"id\":\"1707\",\"subtype\":\"Figure\",\"type\":\"Plot\"},{\"attributes\":{\"overlay\":{\"id\":\"1814\",\"type\":\"BoxAnnotation\"}},\"id\":\"1728\",\"type\":\"BoxZoomTool\"},{\"attributes\":{},\"id\":\"1727\",\"type\":\"WheelZoomTool\"},{\"attributes\":{},\"id\":\"1726\",\"type\":\"PanTool\"},{\"attributes\":{\"data_source\":{\"id\":\"1739\",\"type\":\"ColumnDataSource\"},\"glyph\":{\"id\":\"1740\",\"type\":\"HexTile\"},\"hover_glyph\":null,\"muted_glyph\":null,\"nonselection_glyph\":{\"id\":\"1741\",\"type\":\"HexTile\"},\"selection_glyph\":null,\"view\":{\"id\":\"1743\",\"type\":\"CDSView\"}},\"id\":\"1742\",\"type\":\"GlyphRenderer\"},{\"attributes\":{\"active_drag\":\"auto\",\"active_inspect\":\"auto\",\"active_multi\":null,\"active_scroll\":\"auto\",\"active_tap\":\"auto\",\"tools\":[{\"id\":\"1726\",\"type\":\"PanTool\"},{\"id\":\"1727\",\"type\":\"WheelZoomTool\"},{\"id\":\"1728\",\"type\":\"BoxZoomTool\"},{\"id\":\"1729\",\"type\":\"SaveTool\"},{\"id\":\"1730\",\"type\":\"ResetTool\"},{\"id\":\"1731\",\"type\":\"HelpTool\"}]},\"id\":\"1732\",\"type\":\"Toolbar\"},{\"attributes\":{\"callback\":null,\"data\":{\"fill_color\":[\"blue\",\"red\",\"blue\",\"red\",\"blue\",\"blue\",\"red\",\"blue\",\"red\",\"blue\",\"red\",\"blue\",\"red\",\"blue\",\"red\",\"blue\",\"red\",\"blue\",\"blue\",\"red\",\"blue\",\"red\",\"blue\",\"red\",\"blue\",\"red\",\"blue\",\"red\",\"blue\",\"red\",\"blue\",\"red\",\"blue\",\"red\",\"blue\",\"red\",\"blue\",\"red\",\"blue\",\"red\",\"blue\",\"red\",\"blue\",\"blue\",\"red\",\"blue\",\"red\",\"blue\",\"red\",\"blue\",\"red\",\"blue\",\"red\",\"blue\",\"red\",\"blue\",\"blue\",\"red\",\"blue\",\"red\",\"blue\"],\"q\":{\"__ndarray__\":\"/P////z////8/////P////z////9/////f////3////9/////f////3////+/////v////7////+/////v////7////+//////////////////////////////////////////////8AAAAAAAAAAAAAAAAAAAAAAAAAAAAAAAAAAAAAAAAAAAAAAAABAAAAAQAAAAEAAAABAAAAAQAAAAEAAAABAAAAAQAAAAIAAAACAAAAAgAAAAIAAAACAAAAAgAAAAIAAAADAAAAAwAAAAMAAAADAAAAAwAAAAMAAAAEAAAABAAAAAQAAAAEAAAABAAAAA==\",\"dtype\":\"int32\",\"shape\":[61]},\"r\":{\"__ndarray__\":\"AAAAAAEAAAACAAAAAwAAAAQAAAD/////AAAAAAEAAAACAAAAAwAAAAQAAAD+/////////wAAAAABAAAAAgAAAAMAAAAEAAAA/f////7/////////AAAAAAEAAAACAAAAAwAAAAQAAAD8/////f////7/////////AAAAAAEAAAACAAAAAwAAAAQAAAD8/////f////7/////////AAAAAAEAAAACAAAAAwAAAPz////9/////v////////8AAAAAAQAAAAIAAAD8/////f////7/////////AAAAAAEAAAD8/////f////7/////////AAAAAA==\",\"dtype\":\"int32\",\"shape\":[61]}},\"selected\":{\"id\":\"1810\",\"type\":\"Selection\"},\"selection_policy\":{\"id\":\"1811\",\"type\":\"UnionRenderers\"}},\"id\":\"1739\",\"type\":\"ColumnDataSource\"},{\"attributes\":{\"fill_alpha\":{\"value\":0.1},\"fill_color\":{\"value\":\"#1f77b4\"},\"line_alpha\":{\"value\":0.1},\"line_color\":{\"value\":\"#1f77b4\"},\"q\":{\"field\":\"q\"},\"r\":{\"field\":\"r\"}},\"id\":\"1741\",\"type\":\"HexTile\"},{\"attributes\":{},\"id\":\"1730\",\"type\":\"ResetTool\"},{\"attributes\":{},\"id\":\"1729\",\"type\":\"SaveTool\"},{\"attributes\":{\"source\":{\"id\":\"1739\",\"type\":\"ColumnDataSource\"}},\"id\":\"1743\",\"type\":\"CDSView\"},{\"attributes\":{\"formatter\":{\"id\":\"1809\",\"type\":\"BasicTickFormatter\"},\"ticker\":{\"id\":\"1722\",\"type\":\"BasicTicker\"}},\"id\":\"1721\",\"type\":\"LinearAxis\"},{\"attributes\":{\"source\":{\"id\":\"1744\",\"type\":\"ColumnDataSource\"}},\"id\":\"1748\",\"type\":\"CDSView\"},{\"attributes\":{\"text_align\":\"center\",\"text_alpha\":{\"value\":0.1},\"text_baseline\":\"middle\",\"text_color\":{\"value\":\"black\"},\"x\":{\"field\":\"x\"},\"y\":{\"field\":\"y\"}},\"id\":\"1746\",\"type\":\"Text\"},{\"attributes\":{},\"id\":\"1731\",\"type\":\"HelpTool\"},{\"attributes\":{},\"id\":\"1717\",\"type\":\"BasicTicker\"},{\"attributes\":{\"data_source\":{\"id\":\"1744\",\"type\":\"ColumnDataSource\"},\"glyph\":{\"id\":\"1745\",\"type\":\"Text\"},\"hover_glyph\":null,\"muted_glyph\":null,\"nonselection_glyph\":{\"id\":\"1746\",\"type\":\"Text\"},\"selection_glyph\":null,\"view\":{\"id\":\"1748\",\"type\":\"CDSView\"}},\"id\":\"1747\",\"type\":\"GlyphRenderer\"},{\"attributes\":{\"text_align\":\"center\",\"text_baseline\":\"middle\",\"text_color\":{\"value\":\"black\"},\"x\":{\"field\":\"x\"},\"y\":{\"field\":\"y\"}},\"id\":\"1745\",\"type\":\"Text\"},{\"attributes\":{\"text\":\"\"},\"id\":\"1805\",\"type\":\"Title\"},{\"attributes\":{\"callback\":null,\"data\":{\"text\":[\"-4  4\\n0\",\"-4  3\\n1\",\"-4  2\\n2\",\"-4  1\\n3\",\"-4  0\\n4\",\"-3  4\\n-1\",\"-3  3\\n0\",\"-3  2\\n1\",\"-3  1\\n2\",\"-3  0\\n3\",\"-3  -1\\n4\",\"-2  4\\n-2\",\"-2  3\\n-1\",\"-2  2\\n0\",\"-2  1\\n1\",\"-2  0\\n2\",\"-2  -1\\n3\",\"-2  -2\\n4\",\"-1  4\\n-3\",\"-1  3\\n-2\",\"-1  2\\n-1\",\"-1  1\\n0\",\"-1  0\\n1\",\"-1  -1\\n2\",\"-1  -2\\n3\",\"-1  -3\\n4\",\"0  4\\n-4\",\"0  3\\n-3\",\"0  2\\n-2\",\"0  1\\n-1\",\"0  0\\n0\",\"0  -1\\n1\",\"0  -2\\n2\",\"0  -3\\n3\",\"0  -4\\n4\",\"1  3\\n-4\",\"1  2\\n-3\",\"1  1\\n-2\",\"1  0\\n-1\",\"1  -1\\n0\",\"1  -2\\n1\",\"1  -3\\n2\",\"1  -4\\n3\",\"2  2\\n-4\",\"2  1\\n-3\",\"2  0\\n-2\",\"2  -1\\n-1\",\"2  -2\\n0\",\"2  -3\\n1\",\"2  -4\\n2\",\"3  1\\n-4\",\"3  0\\n-3\",\"3  -1\\n-2\",\"3  -2\\n-1\",\"3  -3\\n0\",\"3  -4\\n1\",\"4  0\\n-4\",\"4  -1\\n-3\",\"4  -2\\n-2\",\"4  -3\\n-1\",\"4  -4\\n0\"],\"x\":{\"__ndarray__\":\"qkxY6Hq2G8AVQ02Lqz8YwIA5Qi7cyBTA6i830QxSEcCqTFjoerYLwBVDTYurPxjAgDlCLtzIFMDqLzfRDFIRwKpMWOh6tgvAgDlCLtzIBMCqTFjoerb7v4A5Qi7cyBTA6i830QxSEcCqTFjoerYLwIA5Qi7cyATAqkxY6Hq2+7+qTFjoerbrvwAAAAAAAAAA6i830QxSEcCqTFjoerYLwIA5Qi7cyATAqkxY6Hq2+7+qTFjoerbrvwAAAAAAAAAAqkxY6Hq26z+qTFjoerb7P6pMWOh6tgvAgDlCLtzIBMCqTFjoerb7v6pMWOh6tuu/AAAAAAAAAACqTFjoerbrP6pMWOh6tvs/gDlCLtzIBECqTFjoerYLQKpMWOh6tvu/qkxY6Hq2678AAAAAAAAAAKpMWOh6tus/qkxY6Hq2+z+AOUIu3MgEQKpMWOh6tgtA6i830QxSEUAAAAAAAAAAAKpMWOh6tus/qkxY6Hq2+z+AOUIu3MgEQKpMWOh6tgtA6i830QxSEUCAOUIu3MgUQKpMWOh6tvs/gDlCLtzIBECqTFjoerYLQOovN9EMUhFAgDlCLtzIFEAVQ02Lqz8YQKpMWOh6tgtA6i830QxSEUCAOUIu3MgUQBVDTYurPxhAqkxY6Hq2G0A=\",\"dtype\":\"float64\",\"shape\":[61]},\"y\":{\"__ndarray__\":\"AAAAAAAAAIAAAAAAAAD4vwAAAAAAAAjAAAAAAAAAEsAAAAAAAAAYwAAAAAAAAPg/AAAAAAAAAIAAAAAAAAD4vwAAAAAAAAjAAAAAAAAAEsAAAAAAAAAYwAAAAAAAAAhAAAAAAAAA+D8AAAAAAAAAgAAAAAAAAPi/AAAAAAAACMAAAAAAAAASwAAAAAAAABjAAAAAAAAAEkAAAAAAAAAIQAAAAAAAAPg/AAAAAAAAAIAAAAAAAAD4vwAAAAAAAAjAAAAAAAAAEsAAAAAAAAAYwAAAAAAAABhAAAAAAAAAEkAAAAAAAAAIQAAAAAAAAPg/AAAAAAAAAIAAAAAAAAD4vwAAAAAAAAjAAAAAAAAAEsAAAAAAAAAYwAAAAAAAABhAAAAAAAAAEkAAAAAAAAAIQAAAAAAAAPg/AAAAAAAAAIAAAAAAAAD4vwAAAAAAAAjAAAAAAAAAEsAAAAAAAAAYQAAAAAAAABJAAAAAAAAACEAAAAAAAAD4PwAAAAAAAACAAAAAAAAA+L8AAAAAAAAIwAAAAAAAABhAAAAAAAAAEkAAAAAAAAAIQAAAAAAAAPg/AAAAAAAAAIAAAAAAAAD4vwAAAAAAABhAAAAAAAAAEkAAAAAAAAAIQAAAAAAAAPg/AAAAAAAAAIA=\",\"dtype\":\"float64\",\"shape\":[61]}},\"selected\":{\"id\":\"1812\",\"type\":\"Selection\"},\"selection_policy\":{\"id\":\"1813\",\"type\":\"UnionRenderers\"}},\"id\":\"1744\",\"type\":\"ColumnDataSource\"},{\"attributes\":{},\"id\":\"1807\",\"type\":\"BasicTickFormatter\"},{\"attributes\":{},\"id\":\"1809\",\"type\":\"BasicTickFormatter\"},{\"attributes\":{},\"id\":\"1810\",\"type\":\"Selection\"},{\"attributes\":{},\"id\":\"1811\",\"type\":\"UnionRenderers\"},{\"attributes\":{},\"id\":\"1812\",\"type\":\"Selection\"},{\"attributes\":{},\"id\":\"1813\",\"type\":\"UnionRenderers\"},{\"attributes\":{\"bottom_units\":\"screen\",\"fill_alpha\":{\"value\":0.5},\"fill_color\":{\"value\":\"lightgrey\"},\"left_units\":\"screen\",\"level\":\"overlay\",\"line_alpha\":{\"value\":1.0},\"line_color\":{\"value\":\"black\"},\"line_dash\":[4,4],\"line_width\":{\"value\":2},\"render_mode\":\"css\",\"right_units\":\"screen\",\"top_units\":\"screen\"},\"id\":\"1814\",\"type\":\"BoxAnnotation\"},{\"attributes\":{\"callback\":null},\"id\":\"1710\",\"type\":\"DataRange1d\"},{\"attributes\":{},\"id\":\"1722\",\"type\":\"BasicTicker\"},{\"attributes\":{\"fill_alpha\":{\"value\":0.5},\"fill_color\":{\"field\":\"fill_color\"},\"line_alpha\":{\"value\":0.5},\"line_color\":{\"value\":\"white\"},\"q\":{\"field\":\"q\"},\"r\":{\"field\":\"r\"}},\"id\":\"1740\",\"type\":\"HexTile\"},{\"attributes\":{\"callback\":null},\"id\":\"1708\",\"type\":\"DataRange1d\"},{\"attributes\":{},\"id\":\"1712\",\"type\":\"LinearScale\"},{\"attributes\":{\"ticker\":{\"id\":\"1717\",\"type\":\"BasicTicker\"},\"visible\":false},\"id\":\"1720\",\"type\":\"Grid\"},{\"attributes\":{\"dimension\":1,\"ticker\":{\"id\":\"1722\",\"type\":\"BasicTicker\"},\"visible\":false},\"id\":\"1725\",\"type\":\"Grid\"},{\"attributes\":{\"formatter\":{\"id\":\"1807\",\"type\":\"BasicTickFormatter\"},\"ticker\":{\"id\":\"1717\",\"type\":\"BasicTicker\"}},\"id\":\"1716\",\"type\":\"LinearAxis\"},{\"attributes\":{},\"id\":\"1714\",\"type\":\"LinearScale\"}],\"root_ids\":[\"1707\"]},\"title\":\"Bokeh Application\",\"version\":\"1.3.4\"}};\n",
       "  var render_items = [{\"docid\":\"66ddc8e3-3211-4e11-bcee-67d18481e08c\",\"roots\":{\"1707\":\"19d72d9a-984a-4319-884d-d948ef4c8e63\"}}];\n",
       "  root.Bokeh.embed.embed_items_notebook(docs_json, render_items);\n",
       "\n",
       "  }\n",
       "  if (root.Bokeh !== undefined) {\n",
       "    embed_document(root);\n",
       "  } else {\n",
       "    var attempts = 0;\n",
       "    var timer = setInterval(function(root) {\n",
       "      if (root.Bokeh !== undefined) {\n",
       "        embed_document(root);\n",
       "        clearInterval(timer);\n",
       "      }\n",
       "      attempts++;\n",
       "      if (attempts > 100) {\n",
       "        console.log(\"Bokeh: ERROR: Unable to run BokehJS code because BokehJS library is missing\");\n",
       "        clearInterval(timer);\n",
       "      }\n",
       "    }, 10, root)\n",
       "  }\n",
       "})(window);"
      ],
      "application/vnd.bokehjs_exec.v0+json": ""
     },
     "metadata": {
      "application/vnd.bokehjs_exec.v0+json": {
       "id": "1707"
      }
     },
     "output_type": "display_data"
    }
   ],
   "source": [
    "def test_stripes(a):\n",
    "    return a[1]%2\n",
    "\n",
    "draw_grid(5,test_stripes)"
   ]
  },
  {
   "cell_type": "code",
   "execution_count": null,
   "metadata": {},
   "outputs": [],
   "source": []
  }
 ],
 "metadata": {
  "kernelspec": {
   "display_name": "Python 3",
   "language": "python",
   "name": "python3"
  },
  "language_info": {
   "codemirror_mode": {
    "name": "ipython",
    "version": 3
   },
   "file_extension": ".py",
   "mimetype": "text/x-python",
   "name": "python",
   "nbconvert_exporter": "python",
   "pygments_lexer": "ipython3",
   "version": "3.7.3"
  },
  "pycharm": {
   "stem_cell": {
    "cell_type": "raw",
    "metadata": {
     "collapsed": false
    },
    "source": []
   }
  }
 },
 "nbformat": 4,
 "nbformat_minor": 2
}
